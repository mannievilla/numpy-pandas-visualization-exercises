{
 "cells": [
  {
   "cell_type": "markdown",
   "id": "4dbdd6e0",
   "metadata": {},
   "source": [
    "### 5. Make a new Jupyter notebook named big_o_notation.ipynb"
   ]
  },
  {
   "cell_type": "markdown",
   "id": "b8baa861",
   "metadata": {},
   "source": [
    "* Title your chart \"Big O Notation\"\n",
    "* Label your x axis \"Elements\"\n",
    "* Label your y axis \"Operations\"\n",
    "* Label your curves or make a legend for the curves\n",
    "* Use LaTex notation where possible"
   ]
  },
  {
   "cell_type": "markdown",
   "id": "45738fb0",
   "metadata": {},
   "source": [
    "##### Curves to graph"
   ]
  },
  {
   "cell_type": "markdown",
   "id": "ae90d8af",
   "metadata": {},
   "source": [
    "* y=0n+1 and label the curve \"O(1)\"\n",
    "* y=log(n) and label the curve \"O(log n)\"\n",
    "* y=n and label the curve \"O(n)\"\n",
    "* y=n∗log(n) and label it \"O(n log n)\"\n",
    "* y=n2 and label it \"O(n^2)\"\n",
    "* y=2n and label it \"O(2^n)\"\n",
    "* y=n! and label it \"O(n!)\"\n",
    "* y=nn and label it \"O(n^n)\""
   ]
  },
  {
   "cell_type": "code",
   "execution_count": 3,
   "id": "c6de593a",
   "metadata": {},
   "outputs": [],
   "source": [
    "import math\n",
    "import numpy as np\n",
    "import matplotlib.pyplot as plt"
   ]
  },
  {
   "cell_type": "code",
   "execution_count": null,
   "id": "1fd67427",
   "metadata": {},
   "outputs": [],
   "source": [
    "plt.figure(figsize=(10, 8))\n",
    "\n",
    "\n",
    "n = np.arange(-100, 100) \n",
    "\n",
    "y = [(0n+1) for n in n + 1]\n",
    "\n",
    "plt.plot(n, y)\n",
    "\n",
    "## next plot\n",
    "\n",
    "n2 = np.arange(-100, 100) \n",
    "\n",
    "y2 = [num**3 for num in x2]\n",
    "\n",
    "plt.plot(x2, y2)\n",
    "\n",
    "## next plot\n",
    "\n",
    "x3 = np.arange(0, 200) \n",
    "\n",
    "y3 = [2**num for num in x3]\n",
    "\n",
    "plt.plot(x3, y2)\n",
    "\n",
    "## next plot\n",
    "\n",
    "x4 = np.arange(0, 10)\n",
    "\n",
    "y4 = [(1/num + 1) for num in x4]\n",
    "\n",
    "plt.plot(x4, y4)\n",
    "\n",
    "plt.xlabel('x')\n",
    "plt.ylabel('y')\n",
    "plt.title('Plot of y=x)')\n",
    "\n",
    "plt.xlim(0, 10) \n",
    "plt.ylim(0, 10) \n",
    "\n",
    "plt.show()"
   ]
  },
  {
   "cell_type": "code",
   "execution_count": 8,
   "id": "f2f3592b",
   "metadata": {},
   "outputs": [
    {
     "data": {
      "text/plain": [
       "[<matplotlib.lines.Line2D at 0x109e84400>]"
      ]
     },
     "execution_count": 8,
     "metadata": {},
     "output_type": "execute_result"
    },
    {
     "data": {
      "image/png": "[encoded data removed]",
      "text/plain": [
       "<Figure size 640x480 with 1 Axes>"
      ]
     },
     "metadata": {},
     "output_type": "display_data"
    }
   ],
   "source": [
    "\n",
    "n = np.arange(-100, 100) \n",
    "\n",
    "y = [(0 * num +1) for num in n + 1]\n",
    "\n",
    "plt.plot(n, y)"
   ]
  },
  {
   "cell_type": "code",
   "execution_count": null,
   "id": "2051f368",
   "metadata": {},
   "outputs": [],
   "source": []
  }
 ],
 "metadata": {
  "kernelspec": {
   "display_name": "Python 3 (ipykernel)",
   "language": "python",
   "name": "python3"
  },
  "language_info": {
   "codemirror_mode": {
    "name": "ipython",
    "version": 3
   },
   "file_extension": ".py",
   "mimetype": "text/x-python",
   "name": "python",
   "nbconvert_exporter": "python",
   "pygments_lexer": "ipython3",
   "version": "3.10.9"
  }
 },
 "nbformat": 4,
 "nbformat_minor": 5
}
