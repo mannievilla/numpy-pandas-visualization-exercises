{
 "cells": [
  {
   "cell_type": "markdown",
   "id": "a90f5a7c",
   "metadata": {},
   "source": [
    "# Part I"
   ]
  },
  {
   "cell_type": "code",
   "execution_count": null,
   "id": "236c7435",
   "metadata": {},
   "outputs": [],
   "source": [
    "import pandas as pd\n",
    "import numpy as np\n",
    "import matplotlib.pyplot as plt"
   ]
  },
  {
   "cell_type": "code",
   "execution_count": null,
   "id": "8ea2e281",
   "metadata": {},
   "outputs": [],
   "source": [
    "list_of_fruit = [\"kiwi\", \"mango\", \"strawberry\", \"pineapple\", \"gala apple\", \"honeycrisp apple\", \"tomato\", \"watermelon\", \"honeydew\", \"kiwi\", \"kiwi\", \"kiwi\", \"mango\", \"blueberry\", \"blackberry\", \"gooseberry\", \"papaya\"]"
   ]
  },
  {
   "cell_type": "code",
   "execution_count": null,
   "id": "3c592404",
   "metadata": {},
   "outputs": [],
   "source": [
    "fruits = pd.Series(list_of_fruit)"
   ]
  },
  {
   "cell_type": "code",
   "execution_count": null,
   "id": "92bce5a1",
   "metadata": {},
   "outputs": [],
   "source": [
    "fruits"
   ]
  },
  {
   "cell_type": "markdown",
   "id": "e045c251",
   "metadata": {},
   "source": [
    "* Determine the number of elements in fruits.\n",
    "\n"
   ]
  },
  {
   "cell_type": "code",
   "execution_count": null,
   "id": "cb6cc51c",
   "metadata": {},
   "outputs": [],
   "source": [
    "len(fruits)"
   ]
  },
  {
   "cell_type": "markdown",
   "id": "964110c4",
   "metadata": {},
   "source": [
    "* Output only the index from fruits.\n",
    "\n"
   ]
  },
  {
   "cell_type": "code",
   "execution_count": null,
   "id": "e078e827",
   "metadata": {},
   "outputs": [],
   "source": [
    "fruits.index"
   ]
  },
  {
   "cell_type": "code",
   "execution_count": null,
   "id": "9e6999eb",
   "metadata": {},
   "outputs": [],
   "source": [
    "list(fruits.index)"
   ]
  },
  {
   "cell_type": "markdown",
   "id": "6724804f",
   "metadata": {},
   "source": [
    "* Output only the values from fruits.\n",
    "\n"
   ]
  },
  {
   "cell_type": "code",
   "execution_count": null,
   "id": "ec4b5fc6",
   "metadata": {},
   "outputs": [],
   "source": [
    "fruits.values"
   ]
  },
  {
   "cell_type": "markdown",
   "id": "2071faaa",
   "metadata": {},
   "source": [
    "* Confirm the data type of the values in fruits.\n",
    "\n"
   ]
  },
  {
   "cell_type": "code",
   "execution_count": null,
   "id": "e1904023",
   "metadata": {},
   "outputs": [],
   "source": [
    "type(fruits)"
   ]
  },
  {
   "cell_type": "markdown",
   "id": "3ee5aab3",
   "metadata": {},
   "source": [
    "* Output only the first five values from fruits. Output the last three values. Output two random values from fruits.\n",
    "\n"
   ]
  },
  {
   "cell_type": "code",
   "execution_count": null,
   "id": "e3687b05",
   "metadata": {
    "scrolled": true
   },
   "outputs": [],
   "source": [
    "fruits.head()"
   ]
  },
  {
   "cell_type": "code",
   "execution_count": null,
   "id": "01247895",
   "metadata": {},
   "outputs": [],
   "source": [
    "fruits.tail(3)"
   ]
  },
  {
   "cell_type": "code",
   "execution_count": null,
   "id": "b3f1f4db",
   "metadata": {},
   "outputs": [],
   "source": [
    "fruits.sample(2)"
   ]
  },
  {
   "cell_type": "markdown",
   "id": "5d96336d",
   "metadata": {},
   "source": [
    "* Run the .describe() on fruits to see what information it returns when called on a Series with string values.\n",
    "\n"
   ]
  },
  {
   "cell_type": "code",
   "execution_count": null,
   "id": "840479e8",
   "metadata": {},
   "outputs": [],
   "source": [
    "fruits.describe()"
   ]
  },
  {
   "cell_type": "markdown",
   "id": "3d8d6684",
   "metadata": {},
   "source": [
    "* Run the code necessary to produce only the unique string values from fruits.\n",
    "\n"
   ]
  },
  {
   "cell_type": "code",
   "execution_count": null,
   "id": "5d5d6dc1",
   "metadata": {},
   "outputs": [],
   "source": [
    "fruits.unique()"
   ]
  },
  {
   "cell_type": "markdown",
   "id": "df5a2a66",
   "metadata": {},
   "source": [
    "* Determine how many times each unique string value occurs in fruits.\n",
    "\n"
   ]
  },
  {
   "cell_type": "code",
   "execution_count": null,
   "id": "86109860",
   "metadata": {},
   "outputs": [],
   "source": [
    "len(fruits.unique()) # also .nunique()"
   ]
  },
  {
   "cell_type": "markdown",
   "id": "5d471925",
   "metadata": {},
   "source": [
    "* Determine the string value that occurs most frequently in fruits.\n",
    "\n"
   ]
  },
  {
   "cell_type": "code",
   "execution_count": null,
   "id": "4d099dd9",
   "metadata": {},
   "outputs": [],
   "source": [
    "top_df = pd.Series(fruits.value_counts())\n",
    "top_df.head(1)"
   ]
  },
  {
   "cell_type": "markdown",
   "id": "d125fac4",
   "metadata": {},
   "source": [
    "* Determine the string value that occurs least frequently in fruits."
   ]
  },
  {
   "cell_type": "code",
   "execution_count": null,
   "id": "27056575",
   "metadata": {},
   "outputs": [],
   "source": [
    "bottom_df = pd.Series(fruits.value_counts())\n",
    "bottom_df.tail(1)"
   ]
  },
  {
   "cell_type": "markdown",
   "id": "0dedd84e",
   "metadata": {},
   "source": [
    "# Part II"
   ]
  },
  {
   "cell_type": "markdown",
   "id": "2e8fb7e3",
   "metadata": {},
   "source": [
    "* Capitalize all the string values in fruits."
   ]
  },
  {
   "cell_type": "code",
   "execution_count": null,
   "id": "3e71833d",
   "metadata": {},
   "outputs": [],
   "source": [
    "fruits_all_caps = fruits.str.capitalize()\n",
    "fruits_all_caps"
   ]
  },
  {
   "cell_type": "markdown",
   "id": "71f078bc",
   "metadata": {},
   "source": [
    "* Count the letter \"a\" in all the string values (use string vectorization)."
   ]
  },
  {
   "cell_type": "code",
   "execution_count": null,
   "id": "33e05653",
   "metadata": {},
   "outputs": [],
   "source": [
    "fruits.str.count('a')"
   ]
  },
  {
   "cell_type": "code",
   "execution_count": null,
   "id": "0cc68e19",
   "metadata": {},
   "outputs": [],
   "source": [
    "a_total_count = fruits.str.count('a').sum()\n",
    "print(f'total count is: ', a_total_count)"
   ]
  },
  {
   "cell_type": "markdown",
   "id": "41e09fcc",
   "metadata": {},
   "source": [
    "* Output the number of vowels in each and every string value."
   ]
  },
  {
   "cell_type": "code",
   "execution_count": null,
   "id": "eb49c144",
   "metadata": {},
   "outputs": [],
   "source": [
    "a_per_row_count = fruits.str.count('[aeiouAEIOU]')\n",
    "print(a_per_row_count)"
   ]
  },
  {
   "cell_type": "markdown",
   "id": "a153fe6d",
   "metadata": {},
   "source": [
    "* Write the code to get the longest string value from fruits."
   ]
  },
  {
   "cell_type": "code",
   "execution_count": null,
   "id": "d20fcb83",
   "metadata": {},
   "outputs": [],
   "source": [
    "fruits.apply(len)\n"
   ]
  },
  {
   "cell_type": "code",
   "execution_count": null,
   "id": "843bac97",
   "metadata": {},
   "outputs": [],
   "source": [
    "fruits.apply(len).max()"
   ]
  },
  {
   "cell_type": "code",
   "execution_count": null,
   "id": "4f8ec910",
   "metadata": {},
   "outputs": [],
   "source": [
    "[fruits.apply(len) >= fruits.apply(len).mean()]"
   ]
  },
  {
   "cell_type": "code",
   "execution_count": null,
   "id": "1d5267ab",
   "metadata": {},
   "outputs": [],
   "source": [
    "fruits[fruits.apply(len) == fruits.apply(len).max()]"
   ]
  },
  {
   "cell_type": "code",
   "execution_count": null,
   "id": "6a4d555b",
   "metadata": {},
   "outputs": [],
   "source": [
    "max_len = 0\n",
    "\n",
    "for i in fruits:\n",
    "    if len(i) > max_len:\n",
    "        max_len = len(i)\n",
    "        longest = i\n",
    "print(longest)"
   ]
  },
  {
   "cell_type": "markdown",
   "id": "3fe99ec6",
   "metadata": {},
   "source": [
    "* Write the code to get the string values with 5 or more letters in the name."
   ]
  },
  {
   "cell_type": "code",
   "execution_count": null,
   "id": "8601cd6f",
   "metadata": {},
   "outputs": [],
   "source": [
    "max_len = 6\n",
    "list_of_5_or_less = []\n",
    "for i in fruits:\n",
    "    if len(i) < max_len:\n",
    "        list_of_5_or_less.append(i)\n",
    "print(list_of_5_or_less)"
   ]
  },
  {
   "cell_type": "markdown",
   "id": "1070c5df",
   "metadata": {},
   "source": [
    "* Find the fruit(s) containing the letter \"o\" two or more times."
   ]
  },
  {
   "cell_type": "code",
   "execution_count": null,
   "id": "8f7d1353",
   "metadata": {},
   "outputs": [],
   "source": [
    "fruits[fruits.str.count('o') >= 2]"
   ]
  },
  {
   "cell_type": "code",
   "execution_count": null,
   "id": "6259427a",
   "metadata": {},
   "outputs": [],
   "source": [
    "list_of_2_or_more_o = []\n",
    "\n",
    "for i in fruits:\n",
    "    vowels = 0\n",
    "    for letter in i:\n",
    "        \n",
    "        if letter == 'o':\n",
    "            \n",
    "            vowels += 1\n",
    "            \n",
    "            if vowels == 2:\n",
    "                list_of_2_or_more_o.append(i)\n",
    "           \n",
    "                \n",
    "print(list_of_2_or_more_o)"
   ]
  },
  {
   "cell_type": "markdown",
   "id": "286b1d29",
   "metadata": {},
   "source": [
    "* Write the code to get only the string values containing the substring \"berry\"."
   ]
  },
  {
   "cell_type": "code",
   "execution_count": null,
   "id": "4d826f11",
   "metadata": {},
   "outputs": [],
   "source": [
    "fruits[fruits.str.contains('berry')]"
   ]
  },
  {
   "cell_type": "code",
   "execution_count": null,
   "id": "fb24c331",
   "metadata": {
    "scrolled": true
   },
   "outputs": [],
   "source": [
    "words_with_berry = []\n",
    "\n",
    "for i in fruits:\n",
    "    \n",
    "    if 'berry' in i:\n",
    "\n",
    "        words_with_berry.append(i)\n",
    "           \n",
    "                \n",
    "print(words_with_berry)"
   ]
  },
  {
   "cell_type": "markdown",
   "id": "9edec220",
   "metadata": {},
   "source": [
    "* Write the code to get only the string values containing the substring \"apple\"."
   ]
  },
  {
   "cell_type": "code",
   "execution_count": null,
   "id": "c3c30cf3",
   "metadata": {},
   "outputs": [],
   "source": [
    "fruits[fruits.str.contains('apple')]"
   ]
  },
  {
   "cell_type": "code",
   "execution_count": null,
   "id": "5c6f75b9",
   "metadata": {},
   "outputs": [],
   "source": [
    "words_with_apple = []\n",
    "\n",
    "for i in fruits:\n",
    "    \n",
    "    if 'apple' in i:\n",
    "\n",
    "        words_with_apple.append(i)\n",
    "           \n",
    "                \n",
    "print(words_with_apple)"
   ]
  },
  {
   "cell_type": "markdown",
   "id": "04b69f5c",
   "metadata": {},
   "source": [
    "* Which string value contains the most vowels?"
   ]
  },
  {
   "cell_type": "code",
   "execution_count": null,
   "id": "0c2eac98",
   "metadata": {},
   "outputs": [],
   "source": [
    "fruits[fruits.str.count('[aeiouAEIOU]') == fruits.str.count('[aeiouAEUIOU]').max()]"
   ]
  },
  {
   "cell_type": "code",
   "execution_count": null,
   "id": "3f6d3ab1",
   "metadata": {},
   "outputs": [],
   "source": [
    "vowels = ['a', 'e', 'i', 'o', 'u']\n",
    "max_vowel_count = 0\n",
    "max_vowel_string = \"\"\n",
    "\n",
    "for fruit in fruits:\n",
    "    vowel_count = 0\n",
    "    \n",
    "    for letter in fruit:\n",
    "        if letter in vowels:\n",
    "            vowel_count += 1\n",
    "            \n",
    "#     print(vowel_count)  # checking to see what is running\n",
    "#     break\n",
    "    if vowel_count > max_vowel_count:\n",
    "        max_vowel_count = vowel_count\n",
    "        max_vowel_string = fruit\n",
    "        \n",
    "print(max_vowel_string)"
   ]
  },
  {
   "cell_type": "markdown",
   "id": "8e43a10c",
   "metadata": {},
   "source": [
    "# Part III"
   ]
  },
  {
   "cell_type": "markdown",
   "id": "3a84ec89",
   "metadata": {},
   "source": [
    "`'hnvidduckkqxwymbimkccexbkmqygkxoyndmcxnwqarhyffsjpsrabtjzsypmzadfavyrnndndvswreauxovncxtwzpwejilzjrmmbbgbyxvjtewqthafnbkqplarokkyydtubbmnexoypulzwfhqvckdpqtpoppzqrmcvhhpwgjwupgzhiofohawytlsiyecuproguy'`"
   ]
  },
  {
   "cell_type": "code",
   "execution_count": 1,
   "id": "acc88cd5",
   "metadata": {},
   "outputs": [],
   "source": [
    "import pandas as pd\n",
    "import numpy as np"
   ]
  },
  {
   "cell_type": "code",
   "execution_count": null,
   "id": "7a0b22fd",
   "metadata": {},
   "outputs": [],
   "source": [
    "letters = 'hnvidduckkqxwymbimkccexbkmqygkxoyndmcxnwqarhyffsjpsrabtjzsypmzadfavyrnndndvswreauxovncxtwzpwejilzjrmmbbgbyxvjtewqthafnbkqplarokkyydtubbmnexoypulzwfhqvckdpqtpoppzqrmcvhhpwgjwupgzhiofohawytlsiyecuproguy'"
   ]
  },
  {
   "cell_type": "code",
   "execution_count": null,
   "id": "312a84f2",
   "metadata": {},
   "outputs": [],
   "source": [
    "letters_list = list(letters)"
   ]
  },
  {
   "cell_type": "code",
   "execution_count": null,
   "id": "43898474",
   "metadata": {},
   "outputs": [],
   "source": [
    "letters_series = pd.Series(letters_list)"
   ]
  },
  {
   "cell_type": "code",
   "execution_count": null,
   "id": "6f32e457",
   "metadata": {},
   "outputs": [],
   "source": [
    "\n",
    "len(letters)"
   ]
  },
  {
   "cell_type": "code",
   "execution_count": null,
   "id": "71edb038",
   "metadata": {},
   "outputs": [],
   "source": [
    "letters_series"
   ]
  },
  {
   "cell_type": "markdown",
   "id": "b1069287",
   "metadata": {},
   "source": [
    "## A"
   ]
  },
  {
   "cell_type": "markdown",
   "id": "d8f66083",
   "metadata": {},
   "source": [
    "* Which letter occurs the most frequently in the letters Series?"
   ]
  },
  {
   "cell_type": "code",
   "execution_count": null,
   "id": "697a0d45",
   "metadata": {},
   "outputs": [],
   "source": [
    "letters_series.max()"
   ]
  },
  {
   "cell_type": "markdown",
   "id": "0aa67319",
   "metadata": {},
   "source": [
    "* Which letter occurs the Least frequently?"
   ]
  },
  {
   "cell_type": "code",
   "execution_count": null,
   "id": "649974c0",
   "metadata": {},
   "outputs": [],
   "source": [
    "letters_series.min()"
   ]
  },
  {
   "cell_type": "markdown",
   "id": "70e2f4f7",
   "metadata": {},
   "source": [
    "* How many vowels are in the Series?"
   ]
  },
  {
   "cell_type": "code",
   "execution_count": null,
   "id": "bea1f572",
   "metadata": {},
   "outputs": [],
   "source": [
    "letters_series.str.count('[aeiouAEIOU]').sum()"
   ]
  },
  {
   "cell_type": "markdown",
   "id": "f5e943fb",
   "metadata": {},
   "source": [
    "* How many consonants are in the Series?"
   ]
  },
  {
   "cell_type": "code",
   "execution_count": null,
   "id": "96ebd5f2",
   "metadata": {},
   "outputs": [],
   "source": [
    "letters_series.str.count('[^aeiouAEIOU]').sum()"
   ]
  },
  {
   "cell_type": "markdown",
   "id": "ed863cb4",
   "metadata": {},
   "source": [
    "* Create a Series that has all of the same letters but uppercased."
   ]
  },
  {
   "cell_type": "code",
   "execution_count": null,
   "id": "a80ca36f",
   "metadata": {},
   "outputs": [],
   "source": [
    "letters_series.str.upper()"
   ]
  },
  {
   "cell_type": "markdown",
   "id": "284588a8",
   "metadata": {},
   "source": [
    "* Create a bar plot of the frequencies of the 6 most commonly occuring letters."
   ]
  },
  {
   "cell_type": "code",
   "execution_count": null,
   "id": "576cef18",
   "metadata": {},
   "outputs": [],
   "source": [
    "letter_count = letters_series.value_counts()"
   ]
  },
  {
   "cell_type": "code",
   "execution_count": null,
   "id": "6cc1a2a9",
   "metadata": {},
   "outputs": [],
   "source": [
    "plot_let_series = pd.Series(letter_count)\n",
    "plot_let_series.plot(kind='bar')"
   ]
  },
  {
   "cell_type": "markdown",
   "id": "48200221",
   "metadata": {},
   "source": [
    "## B"
   ]
  },
  {
   "cell_type": "markdown",
   "id": "5d984af0",
   "metadata": {},
   "source": [
    "`['$796,459.41', '$278.60', '$482,571.67', '$4,503,915.98', '$2,121,418.3', '$1,260,813.3', '$87,231.01', '$1,509,175.45', '$4,138,548.00', '$2,848,913.80', '$594,715.39', '$4,789,988.17', '$4,513,644.5', '$3,191,059.97', '$1,758,712.24', '$4,338,283.54', '$4,738,303.38', '$2,791,759.67', '$769,681.94', '$452,650.23']`"
   ]
  },
  {
   "cell_type": "code",
   "execution_count": 2,
   "id": "9fb9ad00",
   "metadata": {},
   "outputs": [],
   "source": [
    "money_list = ['$796,459.41', '$278.60', '$482,571.67', '$4,503,915.98', '$2,121,418.3', '$1,260,813.3', '$87,231.01', '$1,509,175.45', '$4,138,548.00', '$2,848,913.80', '$594,715.39', '$4,789,988.17', '$4,513,644.5', '$3,191,059.97', '$1,758,712.24', '$4,338,283.54', '$4,738,303.38', '$2,791,759.67', '$769,681.94', '$452,650.23']"
   ]
  },
  {
   "cell_type": "code",
   "execution_count": 3,
   "id": "4a82449f",
   "metadata": {},
   "outputs": [],
   "source": [
    "money_series = pd.Series(money_list)"
   ]
  },
  {
   "cell_type": "code",
   "execution_count": 4,
   "id": "ab777086",
   "metadata": {},
   "outputs": [
    {
     "data": {
      "text/plain": [
       "0       $796,459.41\n",
       "1           $278.60\n",
       "2       $482,571.67\n",
       "3     $4,503,915.98\n",
       "4      $2,121,418.3\n",
       "5      $1,260,813.3\n",
       "6        $87,231.01\n",
       "7     $1,509,175.45\n",
       "8     $4,138,548.00\n",
       "9     $2,848,913.80\n",
       "10      $594,715.39\n",
       "11    $4,789,988.17\n",
       "12     $4,513,644.5\n",
       "13    $3,191,059.97\n",
       "14    $1,758,712.24\n",
       "15    $4,338,283.54\n",
       "16    $4,738,303.38\n",
       "17    $2,791,759.67\n",
       "18      $769,681.94\n",
       "19      $452,650.23\n",
       "dtype: object"
      ]
     },
     "execution_count": 4,
     "metadata": {},
     "output_type": "execute_result"
    }
   ],
   "source": [
    "money_series"
   ]
  },
  {
   "cell_type": "markdown",
   "id": "0f7b9c16",
   "metadata": {},
   "source": [
    "* What is the data type of the numbers Series?"
   ]
  },
  {
   "cell_type": "code",
   "execution_count": 5,
   "id": "d525740e",
   "metadata": {},
   "outputs": [
    {
     "data": {
      "text/plain": [
       "pandas.core.series.Series"
      ]
     },
     "execution_count": 5,
     "metadata": {},
     "output_type": "execute_result"
    }
   ],
   "source": [
    "type(money_series)"
   ]
  },
  {
   "cell_type": "markdown",
   "id": "a19d1518",
   "metadata": {},
   "source": [
    "* How many elements are in the number Series?"
   ]
  },
  {
   "cell_type": "code",
   "execution_count": 6,
   "id": "05185f26",
   "metadata": {},
   "outputs": [
    {
     "data": {
      "text/plain": [
       "20"
      ]
     },
     "execution_count": 6,
     "metadata": {},
     "output_type": "execute_result"
    }
   ],
   "source": [
    "money_series.shape[0]"
   ]
  },
  {
   "cell_type": "markdown",
   "id": "607b163d",
   "metadata": {},
   "source": [
    "* Perform the necessary manipulations by accessing Series attributes and methods to convert the numbers Series to a numeric data type."
   ]
  },
  {
   "cell_type": "code",
   "execution_count": 7,
   "id": "85954cfe",
   "metadata": {},
   "outputs": [
    {
     "name": "stderr",
     "output_type": "stream",
     "text": [
      "/var/folders/qh/kjmdb2zx3n3b2ng_n4q3cyn00000gn/T/ipykernel_89921/1476726554.py:1: FutureWarning: The default value of regex will change from True to False in a future version. In addition, single character regular expressions will *not* be treated as literal strings when regex=True.\n",
      "  money_series = money_series.str.replace('$', '')\n"
     ]
    },
    {
     "data": {
      "text/plain": [
       "0      796459.41\n",
       "1         278.60\n",
       "2      482571.67\n",
       "3     4503915.98\n",
       "4      2121418.3\n",
       "5      1260813.3\n",
       "6       87231.01\n",
       "7     1509175.45\n",
       "8     4138548.00\n",
       "9     2848913.80\n",
       "10     594715.39\n",
       "11    4789988.17\n",
       "12     4513644.5\n",
       "13    3191059.97\n",
       "14    1758712.24\n",
       "15    4338283.54\n",
       "16    4738303.38\n",
       "17    2791759.67\n",
       "18     769681.94\n",
       "19     452650.23\n",
       "dtype: object"
      ]
     },
     "execution_count": 7,
     "metadata": {},
     "output_type": "execute_result"
    }
   ],
   "source": [
    "money_series = money_series.str.replace('$', '')\n",
    "money_series = money_series.str.replace(',', '')\n",
    "money_series\n"
   ]
  },
  {
   "cell_type": "markdown",
   "id": "80b3e7e9",
   "metadata": {},
   "source": [
    "* Run the code to discover the maximum value from the Series."
   ]
  },
  {
   "cell_type": "code",
   "execution_count": 8,
   "id": "f6b423cc",
   "metadata": {},
   "outputs": [
    {
     "data": {
      "text/plain": [
       "0      796459.41\n",
       "1         278.60\n",
       "2      482571.67\n",
       "3     4503915.98\n",
       "4     2121418.30\n",
       "5     1260813.30\n",
       "6       87231.01\n",
       "7     1509175.45\n",
       "8     4138548.00\n",
       "9     2848913.80\n",
       "10     594715.39\n",
       "11    4789988.17\n",
       "12    4513644.50\n",
       "13    3191059.97\n",
       "14    1758712.24\n",
       "15    4338283.54\n",
       "16    4738303.38\n",
       "17    2791759.67\n",
       "18     769681.94\n",
       "19     452650.23\n",
       "dtype: float64"
      ]
     },
     "execution_count": 8,
     "metadata": {},
     "output_type": "execute_result"
    }
   ],
   "source": [
    "money_series = pd.to_numeric(money_series, errors='coerce')\n",
    "money_series"
   ]
  },
  {
   "cell_type": "markdown",
   "id": "77989bf5",
   "metadata": {},
   "source": [
    "* Run the code to discover the minimum value from the Series."
   ]
  },
  {
   "cell_type": "code",
   "execution_count": 9,
   "id": "ea2ee2ea",
   "metadata": {},
   "outputs": [
    {
     "data": {
      "text/plain": [
       "278.6"
      ]
     },
     "execution_count": 9,
     "metadata": {},
     "output_type": "execute_result"
    }
   ],
   "source": [
    "min_money_series = money_series.min()\n",
    "min_money_series"
   ]
  },
  {
   "cell_type": "markdown",
   "id": "e28f9379",
   "metadata": {},
   "source": [
    "* What is the range of the values in the Series?"
   ]
  },
  {
   "cell_type": "code",
   "execution_count": 10,
   "id": "a524ab44",
   "metadata": {},
   "outputs": [
    {
     "data": {
      "text/plain": [
       "4789709.57"
      ]
     },
     "execution_count": 10,
     "metadata": {},
     "output_type": "execute_result"
    }
   ],
   "source": [
    "max_money_series = money_series.max()\n",
    "range_money_series = max_money_series - min_money_series\n",
    "range_money_series"
   ]
  },
  {
   "cell_type": "markdown",
   "id": "440eb343",
   "metadata": {},
   "source": [
    "* Bin the data into 4 equally sized intervals or bins and output how many values fall into each bin."
   ]
  },
  {
   "cell_type": "code",
   "execution_count": 11,
   "id": "a4df37d6",
   "metadata": {},
   "outputs": [
    {
     "data": {
      "text/plain": [
       "0      796459.41\n",
       "1         278.60\n",
       "2      482571.67\n",
       "3     4503915.98\n",
       "4     2121418.30\n",
       "5     1260813.30\n",
       "6       87231.01\n",
       "7     1509175.45\n",
       "8     4138548.00\n",
       "9     2848913.80\n",
       "10     594715.39\n",
       "11    4789988.17\n",
       "12    4513644.50\n",
       "13    3191059.97\n",
       "14    1758712.24\n",
       "15    4338283.54\n",
       "16    4738303.38\n",
       "17    2791759.67\n",
       "18     769681.94\n",
       "19     452650.23\n",
       "dtype: float64"
      ]
     },
     "execution_count": 11,
     "metadata": {},
     "output_type": "execute_result"
    }
   ],
   "source": [
    "money_series"
   ]
  },
  {
   "cell_type": "code",
   "execution_count": 12,
   "id": "1328e16c",
   "metadata": {},
   "outputs": [
    {
     "data": {
      "text/plain": [
       "0        (-4511.11, 1197705.993]\n",
       "1        (-4511.11, 1197705.993]\n",
       "2        (-4511.11, 1197705.993]\n",
       "3      (3592560.778, 4789988.17]\n",
       "4     (1197705.993, 2395133.385]\n",
       "5     (1197705.993, 2395133.385]\n",
       "6        (-4511.11, 1197705.993]\n",
       "7     (1197705.993, 2395133.385]\n",
       "8      (3592560.778, 4789988.17]\n",
       "9     (2395133.385, 3592560.778]\n",
       "10       (-4511.11, 1197705.993]\n",
       "11     (3592560.778, 4789988.17]\n",
       "12     (3592560.778, 4789988.17]\n",
       "13    (2395133.385, 3592560.778]\n",
       "14    (1197705.993, 2395133.385]\n",
       "15     (3592560.778, 4789988.17]\n",
       "16     (3592560.778, 4789988.17]\n",
       "17    (2395133.385, 3592560.778]\n",
       "18       (-4511.11, 1197705.993]\n",
       "19       (-4511.11, 1197705.993]\n",
       "dtype: category\n",
       "Categories (4, interval[float64, right]): [(-4511.11, 1197705.993] < (1197705.993, 2395133.385] < (2395133.385, 3592560.778] < (3592560.778, 4789988.17]]"
      ]
     },
     "execution_count": 12,
     "metadata": {},
     "output_type": "execute_result"
    }
   ],
   "source": [
    "\n",
    "bins_money_series = pd.cut(money_series, bins=4)\n",
    "bins_money_series"
   ]
  },
  {
   "cell_type": "markdown",
   "id": "77da68ff",
   "metadata": {},
   "source": [
    "* Plot the binned data in a meaningful way. Be sure to include a title and axis labels."
   ]
  },
  {
   "cell_type": "code",
   "execution_count": 25,
   "id": "cc217ad6",
   "metadata": {},
   "outputs": [
    {
     "data": {
      "text/plain": [
       "[Text(0.5, 0, 'Bins'), Text(0, 0.5, 'Quantity')]"
      ]
     },
     "execution_count": 25,
     "metadata": {},
     "output_type": "execute_result"
    },
    {
     "data": {
      "image/png": "[encoded data removed]",
      "text/plain": [
       "<Figure size 640x480 with 1 Axes>"
      ]
     },
     "metadata": {},
     "output_type": "display_data"
    }
   ],
   "source": [
    "bins = bins_money_series.value_counts()\n",
    "bins.plot.bar(title='Example Money List', \n",
    "                            rot=45, \n",
    "                            color='firebrick', \n",
    "                            ec='black',\n",
    "                            width=.9).set(xlabel='Bins',\n",
    "                            ylabel='Quantity')"
   ]
  },
  {
   "cell_type": "code",
   "execution_count": null,
   "id": "fe200cef",
   "metadata": {},
   "outputs": [],
   "source": []
  }
 ],
 "metadata": {
  "kernelspec": {
   "display_name": "Python 3 (ipykernel)",
   "language": "python",
   "name": "python3"
  },
  "language_info": {
   "codemirror_mode": {
    "name": "ipython",
    "version": 3
   },
   "file_extension": ".py",
   "mimetype": "text/x-python",
   "name": "python",
   "nbconvert_exporter": "python",
   "pygments_lexer": "ipython3",
   "version": "3.10.9"
  }
 },
 "nbformat": 4,
 "nbformat_minor": 5
}
