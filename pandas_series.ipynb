{
 "cells": [
  {
   "cell_type": "markdown",
   "id": "8d3c98e1",
   "metadata": {},
   "source": [
    "# Part I"
   ]
  },
  {
   "cell_type": "code",
   "execution_count": 33,
   "id": "7cb1cd1a",
   "metadata": {},
   "outputs": [],
   "source": [
    "import pandas as pd\n",
    "import numpy as np\n",
    "import matplotlib.pyplot as plt"
   ]
  },
  {
   "cell_type": "code",
   "execution_count": 206,
   "id": "cf798f89",
   "metadata": {},
   "outputs": [],
   "source": [
    "list_of_fruit = [\"kiwi\", \"mango\", \"strawberry\", \"pineapple\", \"gala apple\", \"honeycrisp apple\", \"tomato\", \"watermelon\", \"honeydew\", \"kiwi\", \"kiwi\", \"kiwi\", \"mango\", \"blueberry\", \"blackberry\", \"gooseberry\", \"papaya\"]"
   ]
  },
  {
   "cell_type": "code",
   "execution_count": 207,
   "id": "a4725456",
   "metadata": {},
   "outputs": [],
   "source": [
    "fruits = pd.Series(list_of_fruit)"
   ]
  },
  {
   "cell_type": "code",
   "execution_count": 208,
   "id": "c49a2971",
   "metadata": {},
   "outputs": [
    {
     "data": {
      "text/plain": [
       "0                 kiwi\n",
       "1                mango\n",
       "2           strawberry\n",
       "3            pineapple\n",
       "4           gala apple\n",
       "5     honeycrisp apple\n",
       "6               tomato\n",
       "7           watermelon\n",
       "8             honeydew\n",
       "9                 kiwi\n",
       "10                kiwi\n",
       "11                kiwi\n",
       "12               mango\n",
       "13           blueberry\n",
       "14          blackberry\n",
       "15          gooseberry\n",
       "16              papaya\n",
       "dtype: object"
      ]
     },
     "execution_count": 208,
     "metadata": {},
     "output_type": "execute_result"
    }
   ],
   "source": [
    "fruits"
   ]
  },
  {
   "cell_type": "markdown",
   "id": "47ace217",
   "metadata": {},
   "source": [
    "* Determine the number of elements in fruits.\n",
    "\n"
   ]
  },
  {
   "cell_type": "code",
   "execution_count": 85,
   "id": "500b9cfd",
   "metadata": {},
   "outputs": [
    {
     "data": {
      "text/plain": [
       "17"
      ]
     },
     "execution_count": 85,
     "metadata": {},
     "output_type": "execute_result"
    }
   ],
   "source": [
    "len(fruits)"
   ]
  },
  {
   "cell_type": "markdown",
   "id": "40eedae8",
   "metadata": {},
   "source": [
    "#### Python"
   ]
  },
  {
   "cell_type": "code",
   "execution_count": 117,
   "id": "6ee3a3e6",
   "metadata": {},
   "outputs": [
    {
     "data": {
      "text/plain": [
       "17"
      ]
     },
     "execution_count": 117,
     "metadata": {},
     "output_type": "execute_result"
    }
   ],
   "source": [
    "count = 0\n",
    "for fruit in list_of_fruit:\n",
    "    count += 1\n",
    "count"
   ]
  },
  {
   "cell_type": "markdown",
   "id": "c5f74414",
   "metadata": {},
   "source": [
    "* Output only the index from fruits.\n",
    "\n"
   ]
  },
  {
   "cell_type": "code",
   "execution_count": 86,
   "id": "fc781f15",
   "metadata": {},
   "outputs": [
    {
     "data": {
      "text/plain": [
       "RangeIndex(start=0, stop=17, step=1)"
      ]
     },
     "execution_count": 86,
     "metadata": {},
     "output_type": "execute_result"
    }
   ],
   "source": [
    "fruits.index"
   ]
  },
  {
   "cell_type": "code",
   "execution_count": 87,
   "id": "185ead24",
   "metadata": {},
   "outputs": [
    {
     "data": {
      "text/plain": [
       "[0, 1, 2, 3, 4, 5, 6, 7, 8, 9, 10, 11, 12, 13, 14, 15, 16]"
      ]
     },
     "execution_count": 87,
     "metadata": {},
     "output_type": "execute_result"
    }
   ],
   "source": [
    "list(fruits.index)"
   ]
  },
  {
   "cell_type": "markdown",
   "id": "f309e61b",
   "metadata": {},
   "source": [
    "* Output only the values from fruits.\n",
    "\n"
   ]
  },
  {
   "cell_type": "code",
   "execution_count": 88,
   "id": "f18322b1",
   "metadata": {},
   "outputs": [
    {
     "data": {
      "text/plain": [
       "array(['kiwi', 'mango', 'strawberry', 'pineapple', 'gala apple',\n",
       "       'honeycrisp apple', 'tomato', 'watermelon', 'honeydew', 'kiwi',\n",
       "       'kiwi', 'kiwi', 'mango', 'blueberry', 'blackberry', 'gooseberry',\n",
       "       'papaya'], dtype=object)"
      ]
     },
     "execution_count": 88,
     "metadata": {},
     "output_type": "execute_result"
    }
   ],
   "source": [
    "fruits.values"
   ]
  },
  {
   "cell_type": "markdown",
   "id": "53aafaa4",
   "metadata": {},
   "source": [
    "* Confirm the data type of the values in fruits.\n",
    "\n"
   ]
  },
  {
   "cell_type": "code",
   "execution_count": 89,
   "id": "4dfc2468",
   "metadata": {},
   "outputs": [
    {
     "data": {
      "text/plain": [
       "pandas.core.series.Series"
      ]
     },
     "execution_count": 89,
     "metadata": {},
     "output_type": "execute_result"
    }
   ],
   "source": [
    "type(fruits)"
   ]
  },
  {
   "cell_type": "markdown",
   "id": "84cfbc41",
   "metadata": {},
   "source": [
    "* Output only the first five values from fruits. Output the last three values. Output two random values from fruits.\n",
    "\n"
   ]
  },
  {
   "cell_type": "code",
   "execution_count": 90,
   "id": "c9b39be4",
   "metadata": {
    "scrolled": true
   },
   "outputs": [
    {
     "data": {
      "text/plain": [
       "0          kiwi\n",
       "1         mango\n",
       "2    strawberry\n",
       "3     pineapple\n",
       "4    gala apple\n",
       "dtype: object"
      ]
     },
     "execution_count": 90,
     "metadata": {},
     "output_type": "execute_result"
    }
   ],
   "source": [
    "fruits.head()"
   ]
  },
  {
   "cell_type": "markdown",
   "id": "814d5bcd",
   "metadata": {},
   "source": [
    "#### Python"
   ]
  },
  {
   "cell_type": "code",
   "execution_count": 114,
   "id": "f1083064",
   "metadata": {},
   "outputs": [
    {
     "name": "stdout",
     "output_type": "stream",
     "text": [
      "['kiwi', 'mango', 'strawberry', 'pineapple', 'gala apple']\n"
     ]
    }
   ],
   "source": [
    "for fruit in list_of_fruit:\n",
    "    x = list_of_fruit[:5]\n",
    "print(x)"
   ]
  },
  {
   "cell_type": "code",
   "execution_count": null,
   "id": "7ddb6207",
   "metadata": {},
   "outputs": [],
   "source": [
    "fruits.tail(3)"
   ]
  },
  {
   "cell_type": "markdown",
   "id": "5aaac28d",
   "metadata": {},
   "source": [
    "#### Python"
   ]
  },
  {
   "cell_type": "code",
   "execution_count": 113,
   "id": "c2423726",
   "metadata": {},
   "outputs": [
    {
     "name": "stdout",
     "output_type": "stream",
     "text": [
      "['mango', 'blueberry', 'blackberry', 'gooseberry', 'papaya']\n"
     ]
    }
   ],
   "source": [
    "for fruit in list_of_fruit:\n",
    "    x = list_of_fruit[-5:]\n",
    "print(x)"
   ]
  },
  {
   "cell_type": "code",
   "execution_count": null,
   "id": "478d3f68",
   "metadata": {},
   "outputs": [],
   "source": [
    "fruits.sample(2)"
   ]
  },
  {
   "cell_type": "markdown",
   "id": "8e5d8188",
   "metadata": {},
   "source": [
    "* Run the .describe() on fruits to see what information it returns when called on a Series with string values.\n",
    "\n"
   ]
  },
  {
   "cell_type": "code",
   "execution_count": 97,
   "id": "519c81a2",
   "metadata": {},
   "outputs": [
    {
     "data": {
      "text/plain": [
       "count       17\n",
       "unique      13\n",
       "top       kiwi\n",
       "freq         4\n",
       "dtype: object"
      ]
     },
     "execution_count": 97,
     "metadata": {},
     "output_type": "execute_result"
    }
   ],
   "source": [
    "fruits.describe()"
   ]
  },
  {
   "cell_type": "markdown",
   "id": "baf71fc0",
   "metadata": {},
   "source": [
    "#### Python"
   ]
  },
  {
   "cell_type": "code",
   "execution_count": 210,
   "id": "a957fe04",
   "metadata": {},
   "outputs": [
    {
     "data": {
      "text/plain": [
       "17"
      ]
     },
     "execution_count": 210,
     "metadata": {},
     "output_type": "execute_result"
    }
   ],
   "source": [
    "def series_item_count(series):\n",
    "    count = 0\n",
    "    for i in series:\n",
    "        count += 1\n",
    "    return count\n",
    "series_item_count(fruits)"
   ]
  },
  {
   "cell_type": "markdown",
   "id": "84573cdf",
   "metadata": {},
   "source": [
    "* Run the code necessary to produce only the unique string values from fruits.\n",
    "\n"
   ]
  },
  {
   "cell_type": "code",
   "execution_count": null,
   "id": "254ec765",
   "metadata": {},
   "outputs": [],
   "source": [
    "fruits.unique()"
   ]
  },
  {
   "cell_type": "markdown",
   "id": "b6a85b77",
   "metadata": {},
   "source": [
    "#### Python"
   ]
  },
  {
   "cell_type": "code",
   "execution_count": 140,
   "id": "e1c26604",
   "metadata": {},
   "outputs": [
    {
     "name": "stdout",
     "output_type": "stream",
     "text": [
      "['kiwi', 'mango', 'strawberry', 'pineapple', 'gala apple', 'honeycrisp apple', 'tomato', 'watermelon', 'honeydew', 'blueberry', 'blackberry', 'gooseberry', 'papaya']\n"
     ]
    }
   ],
   "source": [
    "unique_fruit = []\n",
    "for fruit in list_of_fruit:\n",
    "    if fruit not in unique_fruit:\n",
    "        unique_fruit.append(fruit)\n",
    "    else:\n",
    "        pass\n",
    "    \n",
    "\n",
    "print(unique_fruit)\n",
    "\n"
   ]
  },
  {
   "cell_type": "markdown",
   "id": "fd76c601",
   "metadata": {},
   "source": [
    "* Determine how many times each unique string value occurs in fruits.\n",
    "\n"
   ]
  },
  {
   "cell_type": "code",
   "execution_count": null,
   "id": "6fdb179d",
   "metadata": {},
   "outputs": [],
   "source": [
    "len(fruits.unique()) # also .nunique()"
   ]
  },
  {
   "cell_type": "markdown",
   "id": "c249586e",
   "metadata": {},
   "source": [
    "#### Python"
   ]
  },
  {
   "cell_type": "code",
   "execution_count": 161,
   "id": "ba32cf1d",
   "metadata": {},
   "outputs": [
    {
     "name": "stdout",
     "output_type": "stream",
     "text": [
      "{'kiwi': 4, 'mango': 2, 'strawberry': 1, 'pineapple': 1, 'gala apple': 1, 'honeycrisp apple': 1, 'tomato': 1, 'watermelon': 1, 'honeydew': 1, 'blueberry': 1, 'blackberry': 1, 'gooseberry': 1, 'papaya': 1}\n"
     ]
    }
   ],
   "source": [
    "fruit_counts = {}\n",
    "for fruit in list_of_fruit:\n",
    "    if fruit in fruit_counts:\n",
    "        fruit_counts[fruit] += 1\n",
    "    else:\n",
    "        fruit_counts[fruit] = 1\n",
    "\n",
    "print(fruit_counts)"
   ]
  },
  {
   "cell_type": "markdown",
   "id": "11a33bbb",
   "metadata": {},
   "source": [
    "* Determine the string value that occurs most frequently in fruits.\n",
    "\n"
   ]
  },
  {
   "cell_type": "code",
   "execution_count": null,
   "id": "87ccd48d",
   "metadata": {},
   "outputs": [],
   "source": [
    "top_df = pd.Series(fruits.value_counts())\n",
    "top_df.head(1)"
   ]
  },
  {
   "cell_type": "markdown",
   "id": "09c381b9",
   "metadata": {},
   "source": [
    "#### Python"
   ]
  },
  {
   "cell_type": "code",
   "execution_count": 214,
   "id": "fec7f778",
   "metadata": {},
   "outputs": [
    {
     "name": "stdout",
     "output_type": "stream",
     "text": [
      "kiwi 4\n"
     ]
    }
   ],
   "source": [
    "fruit_counts = {}\n",
    "for fruit in list_of_fruit:\n",
    "    if fruit in fruit_counts:\n",
    "        fruit_counts[fruit] += 1\n",
    "    else:\n",
    "        fruit_counts[fruit] = 1\n",
    "        \n",
    "top_fruit = next(iter(fruit_counts))\n",
    "top_quantity = next(iter(fruit_counts.values()))\n",
    "\n",
    "print(next(iter(fruit_counts)),next(iter(fruit_counts.values())))"
   ]
  },
  {
   "cell_type": "markdown",
   "id": "0aa43f73",
   "metadata": {},
   "source": [
    "* Determine the string value that occurs least frequently in fruits."
   ]
  },
  {
   "cell_type": "code",
   "execution_count": null,
   "id": "b8bda6de",
   "metadata": {},
   "outputs": [],
   "source": [
    "bottom_df = pd.Series(fruits.value_counts())\n",
    "bottom_df.tail(1)"
   ]
  },
  {
   "cell_type": "markdown",
   "id": "85e47e68",
   "metadata": {},
   "source": [
    "#### Python"
   ]
  },
  {
   "cell_type": "code",
   "execution_count": 216,
   "id": "767df3d0",
   "metadata": {},
   "outputs": [
    {
     "ename": "NameError",
     "evalue": "name 'fewest_fruit' is not defined",
     "output_type": "error",
     "traceback": [
      "\u001b[0;31m---------------------------------------------------------------------------\u001b[0m",
      "\u001b[0;31mNameError\u001b[0m                                 Traceback (most recent call last)",
      "Cell \u001b[0;32mIn[216], line 10\u001b[0m\n\u001b[1;32m      6\u001b[0m         fruit_counts[fruit] \u001b[38;5;241m=\u001b[39m \u001b[38;5;241m1\u001b[39m\n\u001b[1;32m      9\u001b[0m fruit \u001b[38;5;241m=\u001b[39m \u001b[38;5;28mmin\u001b[39m(fruit_counts, key\u001b[38;5;241m=\u001b[39mfruit_counts\u001b[38;5;241m.\u001b[39mget)\n\u001b[0;32m---> 10\u001b[0m fewest_fruit \u001b[38;5;241m=\u001b[39m fruit_counts[\u001b[43mfewest_fruit\u001b[49m]\n\u001b[1;32m     12\u001b[0m \u001b[38;5;28mprint\u001b[39m(fruit, fewest_fruit)\n",
      "\u001b[0;31mNameError\u001b[0m: name 'fewest_fruit' is not defined"
     ]
    }
   ],
   "source": [
    "fruit_counts = {}\n",
    "for fruit in list_of_fruit:\n",
    "    if fruit in fruit_counts:\n",
    "        fruit_counts[fruit] += 1\n",
    "    else:\n",
    "        fruit_counts[fruit] = 1\n",
    "        \n",
    "        \n",
    "fruit = min(fruit_counts, key=fruit_counts.get)\n",
    "fewest_fruit = fruit_counts[fewest_fruit]\n",
    "\n",
    "print(fruit, fewest_fruit)"
   ]
  },
  {
   "cell_type": "markdown",
   "id": "2d44b9e8",
   "metadata": {},
   "source": [
    "# Part II"
   ]
  },
  {
   "cell_type": "markdown",
   "id": "4f046630",
   "metadata": {},
   "source": [
    "* Capitalize all the string values in fruits."
   ]
  },
  {
   "cell_type": "code",
   "execution_count": null,
   "id": "10547ef6",
   "metadata": {},
   "outputs": [],
   "source": [
    "fruits_all_caps = fruits.str.capitalize()\n",
    "fruits_all_caps"
   ]
  },
  {
   "cell_type": "markdown",
   "id": "092ed0fb",
   "metadata": {},
   "source": [
    "* Count the letter \"a\" in all the string values (use string vectorization)."
   ]
  },
  {
   "cell_type": "code",
   "execution_count": null,
   "id": "8c973510",
   "metadata": {},
   "outputs": [],
   "source": [
    "fruits.str.count('a')"
   ]
  },
  {
   "cell_type": "code",
   "execution_count": null,
   "id": "bf5b3b73",
   "metadata": {},
   "outputs": [],
   "source": [
    "a_total_count = fruits.str.count('a').sum()\n",
    "print(f'total count is: ', a_total_count)"
   ]
  },
  {
   "cell_type": "markdown",
   "id": "e1ef438b",
   "metadata": {},
   "source": [
    "* Output the number of vowels in each and every string value."
   ]
  },
  {
   "cell_type": "code",
   "execution_count": null,
   "id": "e28f8bd4",
   "metadata": {},
   "outputs": [],
   "source": [
    "a_per_row_count = fruits.str.count('[aeiouAEIOU]')\n",
    "print(a_per_row_count)"
   ]
  },
  {
   "cell_type": "markdown",
   "id": "47fef226",
   "metadata": {},
   "source": [
    "* Write the code to get the longest string value from fruits."
   ]
  },
  {
   "cell_type": "markdown",
   "id": "93172ff2",
   "metadata": {},
   "source": [
    "#### Step by Step"
   ]
  },
  {
   "cell_type": "code",
   "execution_count": 98,
   "id": "46972f84",
   "metadata": {},
   "outputs": [
    {
     "data": {
      "text/plain": [
       "0      4\n",
       "1      5\n",
       "2     10\n",
       "3      9\n",
       "4     10\n",
       "5     16\n",
       "6      6\n",
       "7     10\n",
       "8      8\n",
       "9      4\n",
       "10     4\n",
       "11     4\n",
       "12     5\n",
       "13     9\n",
       "14    10\n",
       "15    10\n",
       "16     6\n",
       "dtype: int64"
      ]
     },
     "execution_count": 98,
     "metadata": {},
     "output_type": "execute_result"
    }
   ],
   "source": [
    "fruits.apply(len)"
   ]
  },
  {
   "cell_type": "code",
   "execution_count": 99,
   "id": "3dfdda97",
   "metadata": {},
   "outputs": [
    {
     "data": {
      "text/plain": [
       "16"
      ]
     },
     "execution_count": 99,
     "metadata": {},
     "output_type": "execute_result"
    }
   ],
   "source": [
    "fruits.apply(len).max()"
   ]
  },
  {
   "cell_type": "code",
   "execution_count": 100,
   "id": "0d10adc9",
   "metadata": {},
   "outputs": [
    {
     "data": {
      "text/plain": [
       "[0     False\n",
       " 1     False\n",
       " 2      True\n",
       " 3      True\n",
       " 4      True\n",
       " 5      True\n",
       " 6     False\n",
       " 7      True\n",
       " 8      True\n",
       " 9     False\n",
       " 10    False\n",
       " 11    False\n",
       " 12    False\n",
       " 13     True\n",
       " 14     True\n",
       " 15     True\n",
       " 16    False\n",
       " dtype: bool]"
      ]
     },
     "execution_count": 100,
     "metadata": {},
     "output_type": "execute_result"
    }
   ],
   "source": [
    "[fruits.apply(len) >= fruits.apply(len).mean()]"
   ]
  },
  {
   "cell_type": "code",
   "execution_count": 101,
   "id": "e9ded542",
   "metadata": {},
   "outputs": [
    {
     "data": {
      "text/plain": [
       "5    honeycrisp apple\n",
       "dtype: object"
      ]
     },
     "execution_count": 101,
     "metadata": {},
     "output_type": "execute_result"
    }
   ],
   "source": [
    "fruits[fruits.apply(len) == fruits.apply(len).max()]"
   ]
  },
  {
   "cell_type": "markdown",
   "id": "27ee57eb",
   "metadata": {},
   "source": [
    "#### Python"
   ]
  },
  {
   "cell_type": "code",
   "execution_count": null,
   "id": "d08e6b46",
   "metadata": {},
   "outputs": [],
   "source": [
    "max_len = 0\n",
    "\n",
    "for i in fruits:\n",
    "    if len(i) > max_len:\n",
    "        max_len = len(i)\n",
    "        longest = i\n",
    "print(longest)"
   ]
  },
  {
   "cell_type": "markdown",
   "id": "26696fbf",
   "metadata": {},
   "source": [
    "* Write the code to get the string values with 5 or more letters in the name."
   ]
  },
  {
   "cell_type": "code",
   "execution_count": 104,
   "id": "2135b699",
   "metadata": {},
   "outputs": [
    {
     "data": {
      "text/plain": [
       "0    kiwi\n",
       "dtype: object"
      ]
     },
     "execution_count": 104,
     "metadata": {},
     "output_type": "execute_result"
    }
   ],
   "source": [
    "fruits[fruits.apply(len) == fruits.apply(len).min()].head(1)"
   ]
  },
  {
   "cell_type": "markdown",
   "id": "cc550c73",
   "metadata": {},
   "source": [
    "#### Python"
   ]
  },
  {
   "cell_type": "code",
   "execution_count": null,
   "id": "1b65ad8e",
   "metadata": {},
   "outputs": [],
   "source": [
    "max_len = 6\n",
    "list_of_5_or_less = []\n",
    "for i in fruits:\n",
    "    if len(i) < max_len:\n",
    "        list_of_5_or_less.append(i)\n",
    "print(list_of_5_or_less)"
   ]
  },
  {
   "cell_type": "markdown",
   "id": "3df2106d",
   "metadata": {},
   "source": [
    "* Find the fruit(s) containing the letter \"o\" two or more times."
   ]
  },
  {
   "cell_type": "code",
   "execution_count": null,
   "id": "b69f3b4d",
   "metadata": {},
   "outputs": [],
   "source": [
    "fruits[fruits.str.count('o') >= 2]"
   ]
  },
  {
   "cell_type": "markdown",
   "id": "62fcdb4a",
   "metadata": {},
   "source": [
    "#### Python"
   ]
  },
  {
   "cell_type": "code",
   "execution_count": null,
   "id": "07c0a0ed",
   "metadata": {},
   "outputs": [],
   "source": [
    "list_of_2_or_more_o = []\n",
    "\n",
    "for i in fruits:\n",
    "    vowels = 0\n",
    "    for letter in i:\n",
    "        \n",
    "        if letter == 'o':\n",
    "            \n",
    "            vowels += 1\n",
    "            \n",
    "            if vowels == 2:\n",
    "                list_of_2_or_more_o.append(i)\n",
    "           \n",
    "                \n",
    "print(list_of_2_or_more_o)"
   ]
  },
  {
   "cell_type": "markdown",
   "id": "8f2b0f3c",
   "metadata": {},
   "source": [
    "* Write the code to get only the string values containing the substring \"berry\"."
   ]
  },
  {
   "cell_type": "code",
   "execution_count": null,
   "id": "3cf1111a",
   "metadata": {},
   "outputs": [],
   "source": [
    "fruits[fruits.str.contains('berry')]"
   ]
  },
  {
   "cell_type": "markdown",
   "id": "3c6ff929",
   "metadata": {},
   "source": [
    "#### Python"
   ]
  },
  {
   "cell_type": "code",
   "execution_count": null,
   "id": "ccb28bdb",
   "metadata": {
    "scrolled": true
   },
   "outputs": [],
   "source": [
    "words_with_berry = []\n",
    "\n",
    "for i in fruits:\n",
    "    \n",
    "    if 'berry' in i:\n",
    "\n",
    "        words_with_berry.append(i)\n",
    "           \n",
    "                \n",
    "print(words_with_berry)"
   ]
  },
  {
   "cell_type": "markdown",
   "id": "1cdd26ae",
   "metadata": {},
   "source": [
    "* Write the code to get only the string values containing the substring \"apple\"."
   ]
  },
  {
   "cell_type": "code",
   "execution_count": null,
   "id": "8323ac55",
   "metadata": {},
   "outputs": [],
   "source": [
    "fruits[fruits.str.contains('apple')]"
   ]
  },
  {
   "cell_type": "markdown",
   "id": "e90058fe",
   "metadata": {},
   "source": [
    "#### Python"
   ]
  },
  {
   "cell_type": "code",
   "execution_count": null,
   "id": "069054eb",
   "metadata": {},
   "outputs": [],
   "source": [
    "words_with_apple = []\n",
    "\n",
    "for i in fruits:\n",
    "    \n",
    "    if 'apple' in i:\n",
    "\n",
    "        words_with_apple.append(i)\n",
    "           \n",
    "                \n",
    "print(words_with_apple)"
   ]
  },
  {
   "cell_type": "markdown",
   "id": "5ae1ad57",
   "metadata": {},
   "source": [
    "* Which string value contains the most vowels?"
   ]
  },
  {
   "cell_type": "code",
   "execution_count": null,
   "id": "b2534678",
   "metadata": {},
   "outputs": [],
   "source": [
    "fruits[fruits.str.count('[aeiouAEIOU]') == fruits.str.count('[aeiouAEUIOU]').max()]"
   ]
  },
  {
   "cell_type": "markdown",
   "id": "b362fa91",
   "metadata": {},
   "source": [
    "#### Python"
   ]
  },
  {
   "cell_type": "code",
   "execution_count": null,
   "id": "cd823ae1",
   "metadata": {},
   "outputs": [],
   "source": [
    "vowels = ['a', 'e', 'i', 'o', 'u']\n",
    "max_vowel_count = 0\n",
    "max_vowel_string = \"\"\n",
    "\n",
    "for fruit in fruits:\n",
    "    vowel_count = 0\n",
    "    \n",
    "    for letter in fruit:\n",
    "        if letter in vowels:\n",
    "            vowel_count += 1\n",
    "            \n",
    "#     print(vowel_count)  # checking to see what is running\n",
    "#     break\n",
    "    if vowel_count > max_vowel_count:\n",
    "        max_vowel_count = vowel_count\n",
    "        max_vowel_string = fruit\n",
    "        \n",
    "print(max_vowel_string)"
   ]
  },
  {
   "cell_type": "markdown",
   "id": "c682fdac",
   "metadata": {},
   "source": [
    "# Part III"
   ]
  },
  {
   "cell_type": "markdown",
   "id": "22606b01",
   "metadata": {},
   "source": [
    "`'hnvidduckkqxwymbimkccexbkmqygkxoyndmcxnwqarhyffsjpsrabtjzsypmzadfavyrnndndvswreauxovncxtwzpwejilzjrmmbbgbyxvjtewqthafnbkqplarokkyydtubbmnexoypulzwfhqvckdpqtpoppzqrmcvhhpwgjwupgzhiofohawytlsiyecuproguy'`"
   ]
  },
  {
   "cell_type": "code",
   "execution_count": 173,
   "id": "9b83b6a2",
   "metadata": {},
   "outputs": [],
   "source": [
    "import pandas as pd\n",
    "import numpy as np"
   ]
  },
  {
   "cell_type": "code",
   "execution_count": 166,
   "id": "93f20367",
   "metadata": {},
   "outputs": [],
   "source": [
    "letters = 'hnvidduckkqxwymbimkccexbkmqygkxoyndmcxnwqarhyffsjpsrabtjzsypmzadfavyrnndndvswreauxovncxtwzpwejilzjrmmbbgbyxvjtewqthafnbkqplarokkyydtubbmnexoypulzwfhqvckdpqtpoppzqrmcvhhpwgjwupgzhiofohawytlsiyecuproguy'"
   ]
  },
  {
   "cell_type": "code",
   "execution_count": 171,
   "id": "d454b0b6",
   "metadata": {},
   "outputs": [],
   "source": [
    "letters_list = list(letters) # break the letters into a list of indivual letters"
   ]
  },
  {
   "cell_type": "code",
   "execution_count": 168,
   "id": "a474af05",
   "metadata": {},
   "outputs": [],
   "source": [
    "letters_series = pd.Series(letters_list)"
   ]
  },
  {
   "cell_type": "code",
   "execution_count": 169,
   "id": "98aed30e",
   "metadata": {},
   "outputs": [
    {
     "data": {
      "text/plain": [
       "200"
      ]
     },
     "execution_count": 169,
     "metadata": {},
     "output_type": "execute_result"
    }
   ],
   "source": [
    "\n",
    "len(letters)"
   ]
  },
  {
   "cell_type": "code",
   "execution_count": 170,
   "id": "45cb65eb",
   "metadata": {},
   "outputs": [
    {
     "data": {
      "text/plain": [
       "0      h\n",
       "1      n\n",
       "2      v\n",
       "3      i\n",
       "4      d\n",
       "      ..\n",
       "195    r\n",
       "196    o\n",
       "197    g\n",
       "198    u\n",
       "199    y\n",
       "Length: 200, dtype: object"
      ]
     },
     "execution_count": 170,
     "metadata": {},
     "output_type": "execute_result"
    }
   ],
   "source": [
    "letters_series"
   ]
  },
  {
   "cell_type": "markdown",
   "id": "2d013945",
   "metadata": {},
   "source": [
    "## A"
   ]
  },
  {
   "cell_type": "markdown",
   "id": "4e328d99",
   "metadata": {},
   "source": [
    "* Which letter occurs the most frequently in the letters Series?"
   ]
  },
  {
   "cell_type": "code",
   "execution_count": 181,
   "id": "cdceafab",
   "metadata": {},
   "outputs": [
    {
     "data": {
      "text/plain": [
       "y    13\n",
       "dtype: int64"
      ]
     },
     "execution_count": 181,
     "metadata": {},
     "output_type": "execute_result"
    }
   ],
   "source": [
    "letters_series.value_counts().head(1)"
   ]
  },
  {
   "cell_type": "markdown",
   "id": "a606bd0e",
   "metadata": {},
   "source": [
    "* Which letter occurs the Least frequently?"
   ]
  },
  {
   "cell_type": "code",
   "execution_count": null,
   "id": "61f637e6",
   "metadata": {},
   "outputs": [],
   "source": [
    "letters_series.min()"
   ]
  },
  {
   "cell_type": "markdown",
   "id": "ac8c2fe0",
   "metadata": {},
   "source": [
    "* How many vowels are in the Series?"
   ]
  },
  {
   "cell_type": "code",
   "execution_count": 182,
   "id": "bc37c473",
   "metadata": {},
   "outputs": [
    {
     "data": {
      "text/plain": [
       "34"
      ]
     },
     "execution_count": 182,
     "metadata": {},
     "output_type": "execute_result"
    }
   ],
   "source": [
    "letters_series.str.count('[aeiouAEIOU]').sum()"
   ]
  },
  {
   "cell_type": "code",
   "execution_count": null,
   "id": "87136c6a",
   "metadata": {},
   "outputs": [],
   "source": []
  },
  {
   "cell_type": "code",
   "execution_count": 195,
   "id": "30035481",
   "metadata": {},
   "outputs": [
    {
     "ename": "NameError",
     "evalue": "name 'word' is not defined",
     "output_type": "error",
     "traceback": [
      "\u001b[0;31m---------------------------------------------------------------------------\u001b[0m",
      "\u001b[0;31mNameError\u001b[0m                                 Traceback (most recent call last)",
      "Cell \u001b[0;32mIn[195], line 3\u001b[0m\n\u001b[1;32m      1\u001b[0m \u001b[38;5;28;01mdef\u001b[39;00m \u001b[38;5;21mis_vowel\u001b[39m():\n\u001b[1;32m      2\u001b[0m     \u001b[38;5;28;01mreturn\u001b[39;00m word \u001b[38;5;129;01min\u001b[39;00m [\u001b[38;5;124m'\u001b[39m\u001b[38;5;124ma\u001b[39m\u001b[38;5;124m'\u001b[39m, \u001b[38;5;124m'\u001b[39m\u001b[38;5;124me\u001b[39m\u001b[38;5;124m'\u001b[39m, \u001b[38;5;124m'\u001b[39m\u001b[38;5;124mo\u001b[39m\u001b[38;5;124m'\u001b[39m, \u001b[38;5;124m'\u001b[39m\u001b[38;5;124mu\u001b[39m\u001b[38;5;124m'\u001b[39m]\n\u001b[0;32m----> 3\u001b[0m \u001b[43mis_vowel\u001b[49m\u001b[43m(\u001b[49m\u001b[43m)\u001b[49m\n",
      "Cell \u001b[0;32mIn[195], line 2\u001b[0m, in \u001b[0;36mis_vowel\u001b[0;34m()\u001b[0m\n\u001b[1;32m      1\u001b[0m \u001b[38;5;28;01mdef\u001b[39;00m \u001b[38;5;21mis_vowel\u001b[39m():\n\u001b[0;32m----> 2\u001b[0m     \u001b[38;5;28;01mreturn\u001b[39;00m \u001b[43mword\u001b[49m \u001b[38;5;129;01min\u001b[39;00m [\u001b[38;5;124m'\u001b[39m\u001b[38;5;124ma\u001b[39m\u001b[38;5;124m'\u001b[39m, \u001b[38;5;124m'\u001b[39m\u001b[38;5;124me\u001b[39m\u001b[38;5;124m'\u001b[39m, \u001b[38;5;124m'\u001b[39m\u001b[38;5;124mo\u001b[39m\u001b[38;5;124m'\u001b[39m, \u001b[38;5;124m'\u001b[39m\u001b[38;5;124mu\u001b[39m\u001b[38;5;124m'\u001b[39m]\n",
      "\u001b[0;31mNameError\u001b[0m: name 'word' is not defined"
     ]
    }
   ],
   "source": [
    "def is_vowel(word):\n",
    "    return word in ['a', 'e', 'o', 'u']\n",
    "is_vowel(lsit)"
   ]
  },
  {
   "cell_type": "markdown",
   "id": "fe9812fc",
   "metadata": {},
   "source": [
    "* How many consonants are in the Series?"
   ]
  },
  {
   "cell_type": "code",
   "execution_count": null,
   "id": "8dd1f0a7",
   "metadata": {},
   "outputs": [],
   "source": [
    "letters_series.str.count('[^aeiouAEIOU]').sum()"
   ]
  },
  {
   "cell_type": "markdown",
   "id": "7dbd2456",
   "metadata": {},
   "source": [
    "* Create a Series that has all of the same letters but uppercased."
   ]
  },
  {
   "cell_type": "code",
   "execution_count": null,
   "id": "d3348f43",
   "metadata": {},
   "outputs": [],
   "source": [
    "letters_series.str.upper()"
   ]
  },
  {
   "cell_type": "markdown",
   "id": "f3b5dc94",
   "metadata": {},
   "source": [
    "* Create a bar plot of the frequencies of the 6 most commonly occuring letters."
   ]
  },
  {
   "cell_type": "code",
   "execution_count": 188,
   "id": "144b5da8",
   "metadata": {},
   "outputs": [],
   "source": [
    "letter_count = letters_series.value_counts().head(6)"
   ]
  },
  {
   "cell_type": "code",
   "execution_count": 189,
   "id": "d4c17117",
   "metadata": {},
   "outputs": [
    {
     "data": {
      "text/plain": [
       "<Axes: >"
      ]
     },
     "execution_count": 189,
     "metadata": {},
     "output_type": "execute_result"
    },
    {
     "data": {
      "image/png": "[encoded data removed]",
      "text/plain": [
       "<Figure size 640x480 with 1 Axes>"
      ]
     },
     "metadata": {},
     "output_type": "display_data"
    }
   ],
   "source": [
    "plot_let_series = pd.Series(letter_count)\n",
    "plot_let_series.plot(kind='bar')"
   ]
  },
  {
   "cell_type": "markdown",
   "id": "edbd6c64",
   "metadata": {},
   "source": [
    "## B"
   ]
  },
  {
   "cell_type": "markdown",
   "id": "35ab56f1",
   "metadata": {},
   "source": [
    "`['$796,459.41', '$278.60', '$482,571.67', '$4,503,915.98', '$2,121,418.3', '$1,260,813.3', '$87,231.01', '$1,509,175.45', '$4,138,548.00', '$2,848,913.80', '$594,715.39', '$4,789,988.17', '$4,513,644.5', '$3,191,059.97', '$1,758,712.24', '$4,338,283.54', '$4,738,303.38', '$2,791,759.67', '$769,681.94', '$452,650.23']`"
   ]
  },
  {
   "cell_type": "code",
   "execution_count": 70,
   "id": "1c193ea7",
   "metadata": {},
   "outputs": [],
   "source": [
    "money_list = ['$796,459.41', '$278.60', '$482,571.67', '$4,503,915.98', '$2,121,418.3', '$1,260,813.3', '$87,231.01', '$1,509,175.45', '$4,138,548.00', '$2,848,913.80', '$594,715.39', '$4,789,988.17', '$4,513,644.5', '$3,191,059.97', '$1,758,712.24', '$4,338,283.54', '$4,738,303.38', '$2,791,759.67', '$769,681.94', '$452,650.23']"
   ]
  },
  {
   "cell_type": "code",
   "execution_count": 71,
   "id": "9a124f7d",
   "metadata": {},
   "outputs": [],
   "source": [
    "money_series = pd.Series(money_list)"
   ]
  },
  {
   "cell_type": "code",
   "execution_count": 72,
   "id": "ab9d3134",
   "metadata": {},
   "outputs": [
    {
     "data": {
      "text/plain": [
       "0       $796,459.41\n",
       "1           $278.60\n",
       "2       $482,571.67\n",
       "3     $4,503,915.98\n",
       "4      $2,121,418.3\n",
       "5      $1,260,813.3\n",
       "6        $87,231.01\n",
       "7     $1,509,175.45\n",
       "8     $4,138,548.00\n",
       "9     $2,848,913.80\n",
       "10      $594,715.39\n",
       "11    $4,789,988.17\n",
       "12     $4,513,644.5\n",
       "13    $3,191,059.97\n",
       "14    $1,758,712.24\n",
       "15    $4,338,283.54\n",
       "16    $4,738,303.38\n",
       "17    $2,791,759.67\n",
       "18      $769,681.94\n",
       "19      $452,650.23\n",
       "dtype: object"
      ]
     },
     "execution_count": 72,
     "metadata": {},
     "output_type": "execute_result"
    }
   ],
   "source": [
    "money_series"
   ]
  },
  {
   "cell_type": "markdown",
   "id": "e4d45af0",
   "metadata": {},
   "source": [
    "* What is the data type of the numbers Series?"
   ]
  },
  {
   "cell_type": "code",
   "execution_count": 73,
   "id": "d7612f60",
   "metadata": {},
   "outputs": [
    {
     "data": {
      "text/plain": [
       "pandas.core.series.Series"
      ]
     },
     "execution_count": 73,
     "metadata": {},
     "output_type": "execute_result"
    }
   ],
   "source": [
    "type(money_series)"
   ]
  },
  {
   "cell_type": "markdown",
   "id": "98ea3ab5",
   "metadata": {},
   "source": [
    "* How many elements are in the number Series?"
   ]
  },
  {
   "cell_type": "code",
   "execution_count": 74,
   "id": "4b35b764",
   "metadata": {},
   "outputs": [
    {
     "data": {
      "text/plain": [
       "20"
      ]
     },
     "execution_count": 74,
     "metadata": {},
     "output_type": "execute_result"
    }
   ],
   "source": [
    "money_series.shape[0]"
   ]
  },
  {
   "cell_type": "markdown",
   "id": "f037a1c4",
   "metadata": {},
   "source": [
    "* Perform the necessary manipulations by accessing Series attributes and methods to convert the numbers Series to a numeric data type."
   ]
  },
  {
   "cell_type": "code",
   "execution_count": 75,
   "id": "9d866e7d",
   "metadata": {},
   "outputs": [
    {
     "name": "stderr",
     "output_type": "stream",
     "text": [
      "/var/folders/qh/kjmdb2zx3n3b2ng_n4q3cyn00000gn/T/ipykernel_89921/4094936714.py:1: FutureWarning: The default value of regex will change from True to False in a future version. In addition, single character regular expressions will *not* be treated as literal strings when regex=True.\n",
      "  money_series = money_series.str.replace('$', '')\n"
     ]
    },
    {
     "data": {
      "text/plain": [
       "0      796459.41\n",
       "1         278.60\n",
       "2      482571.67\n",
       "3     4503915.98\n",
       "4     2121418.30\n",
       "5     1260813.30\n",
       "6       87231.01\n",
       "7     1509175.45\n",
       "8     4138548.00\n",
       "9     2848913.80\n",
       "10     594715.39\n",
       "11    4789988.17\n",
       "12    4513644.50\n",
       "13    3191059.97\n",
       "14    1758712.24\n",
       "15    4338283.54\n",
       "16    4738303.38\n",
       "17    2791759.67\n",
       "18     769681.94\n",
       "19     452650.23\n",
       "dtype: float64"
      ]
     },
     "execution_count": 75,
     "metadata": {},
     "output_type": "execute_result"
    }
   ],
   "source": [
    "money_series = money_series.str.replace('$', '')\n",
    "money_series = money_series.str.replace(',', '')\n",
    "money_series = pd.to_numeric(money_series, errors='coerce')\n",
    "money_series\n"
   ]
  },
  {
   "cell_type": "markdown",
   "id": "3dc8a7c5",
   "metadata": {},
   "source": [
    "* Run the code to discover the maximum value from the Series."
   ]
  },
  {
   "cell_type": "code",
   "execution_count": 77,
   "id": "840440dd",
   "metadata": {},
   "outputs": [
    {
     "data": {
      "text/plain": [
       "4789988.17"
      ]
     },
     "execution_count": 77,
     "metadata": {},
     "output_type": "execute_result"
    }
   ],
   "source": [
    "max_money_series = money_series.max()\n",
    "max_money_series"
   ]
  },
  {
   "cell_type": "markdown",
   "id": "3a2532c3",
   "metadata": {},
   "source": [
    "* Run the code to discover the minimum value from the Series."
   ]
  },
  {
   "cell_type": "code",
   "execution_count": 78,
   "id": "27ffa719",
   "metadata": {},
   "outputs": [
    {
     "data": {
      "text/plain": [
       "278.6"
      ]
     },
     "execution_count": 78,
     "metadata": {},
     "output_type": "execute_result"
    }
   ],
   "source": [
    "min_money_series = money_series.min()\n",
    "min_money_series"
   ]
  },
  {
   "cell_type": "markdown",
   "id": "624217c4",
   "metadata": {},
   "source": [
    "* What is the range of the values in the Series?"
   ]
  },
  {
   "cell_type": "code",
   "execution_count": 79,
   "id": "5dc8d9c3",
   "metadata": {},
   "outputs": [
    {
     "data": {
      "text/plain": [
       "4789709.57"
      ]
     },
     "execution_count": 79,
     "metadata": {},
     "output_type": "execute_result"
    }
   ],
   "source": [
    "max_money_series = money_series.max()\n",
    "range_money_series = max_money_series - min_money_series\n",
    "range_money_series"
   ]
  },
  {
   "cell_type": "markdown",
   "id": "531862a9",
   "metadata": {},
   "source": [
    "* Bin the data into 4 equally sized intervals or bins and output how many values fall into each bin."
   ]
  },
  {
   "cell_type": "code",
   "execution_count": 11,
   "id": "025559f5",
   "metadata": {},
   "outputs": [
    {
     "data": {
      "text/plain": [
       "0      796459.41\n",
       "1         278.60\n",
       "2      482571.67\n",
       "3     4503915.98\n",
       "4     2121418.30\n",
       "5     1260813.30\n",
       "6       87231.01\n",
       "7     1509175.45\n",
       "8     4138548.00\n",
       "9     2848913.80\n",
       "10     594715.39\n",
       "11    4789988.17\n",
       "12    4513644.50\n",
       "13    3191059.97\n",
       "14    1758712.24\n",
       "15    4338283.54\n",
       "16    4738303.38\n",
       "17    2791759.67\n",
       "18     769681.94\n",
       "19     452650.23\n",
       "dtype: float64"
      ]
     },
     "execution_count": 11,
     "metadata": {},
     "output_type": "execute_result"
    }
   ],
   "source": [
    "money_series"
   ]
  },
  {
   "cell_type": "code",
   "execution_count": 192,
   "id": "d444a4bd",
   "metadata": {},
   "outputs": [
    {
     "data": {
      "text/plain": [
       "(-4511.11, 1197705.993]       7\n",
       "(3592560.778, 4789988.17]     6\n",
       "(1197705.993, 2395133.385]    4\n",
       "(2395133.385, 3592560.778]    3\n",
       "dtype: int64"
      ]
     },
     "execution_count": 192,
     "metadata": {},
     "output_type": "execute_result"
    }
   ],
   "source": [
    "\n",
    "bins_money_series = pd.cut(money_series, bins=4)\n",
    "bins_money_series.value_counts()"
   ]
  },
  {
   "cell_type": "markdown",
   "id": "7e089f98",
   "metadata": {},
   "source": [
    "* Plot the binned data in a meaningful way. Be sure to include a title and axis labels."
   ]
  },
  {
   "cell_type": "code",
   "execution_count": 25,
   "id": "d71d7a47",
   "metadata": {},
   "outputs": [
    {
     "data": {
      "text/plain": [
       "[Text(0.5, 0, 'Bins'), Text(0, 0.5, 'Quantity')]"
      ]
     },
     "execution_count": 25,
     "metadata": {},
     "output_type": "execute_result"
    },
    {
     "data": {
      "image/png": "[encoded data removed]",
      "text/plain": [
       "<Figure size 640x480 with 1 Axes>"
      ]
     },
     "metadata": {},
     "output_type": "display_data"
    }
   ],
   "source": [
    "bins = bins_money_series.value_counts()\n",
    "bins.plot.bar(title='Example Money List', \n",
    "                            rot=45, \n",
    "                            color='firebrick', \n",
    "                            ec='black',\n",
    "                            width=.9).set(xlabel='Bins',\n",
    "                            ylabel='Quantity')"
   ]
  },
  {
   "cell_type": "markdown",
   "id": "3d7a485c",
   "metadata": {},
   "source": [
    "# C"
   ]
  },
  {
   "cell_type": "code",
   "execution_count": 26,
   "id": "34119470",
   "metadata": {},
   "outputs": [],
   "source": [
    "num_list = [60, 86, 75, 62, 93, 71, 60, 83, 95, 78, 65, 72, 69, 81, 96, 80, 85, 92, 82, 78]\n"
   ]
  },
  {
   "cell_type": "code",
   "execution_count": 37,
   "id": "dd4c0b43",
   "metadata": {},
   "outputs": [
    {
     "data": {
      "text/plain": [
       "0     60\n",
       "1     86\n",
       "2     75\n",
       "3     62\n",
       "4     93\n",
       "5     71\n",
       "6     60\n",
       "7     83\n",
       "8     95\n",
       "9     78\n",
       "10    65\n",
       "11    72\n",
       "12    69\n",
       "13    81\n",
       "14    96\n",
       "15    80\n",
       "16    85\n",
       "17    92\n",
       "18    82\n",
       "19    78\n",
       "dtype: int64"
      ]
     },
     "execution_count": 37,
     "metadata": {},
     "output_type": "execute_result"
    }
   ],
   "source": [
    "num_list_series = pd.Series(num_list)\n",
    "num_list_series"
   ]
  },
  {
   "cell_type": "markdown",
   "id": "0ab7c210",
   "metadata": {},
   "source": [
    "* How many elements are in the exam_scores Series?"
   ]
  },
  {
   "cell_type": "code",
   "execution_count": 28,
   "id": "cb9c512b",
   "metadata": {},
   "outputs": [
    {
     "data": {
      "text/plain": [
       "20"
      ]
     },
     "execution_count": 28,
     "metadata": {},
     "output_type": "execute_result"
    }
   ],
   "source": [
    "len(num_list_series)"
   ]
  },
  {
   "cell_type": "markdown",
   "id": "e89ddd4c",
   "metadata": {},
   "source": [
    "* Run the code to discover the minimum, the maximum, the mean, and the median scores for the exam_scores Series."
   ]
  },
  {
   "cell_type": "code",
   "execution_count": 29,
   "id": "250a899c",
   "metadata": {},
   "outputs": [
    {
     "data": {
      "text/plain": [
       "60"
      ]
     },
     "execution_count": 29,
     "metadata": {},
     "output_type": "execute_result"
    }
   ],
   "source": [
    "min(num_list_series)"
   ]
  },
  {
   "cell_type": "code",
   "execution_count": 30,
   "id": "69d3162f",
   "metadata": {},
   "outputs": [
    {
     "data": {
      "text/plain": [
       "96"
      ]
     },
     "execution_count": 30,
     "metadata": {},
     "output_type": "execute_result"
    }
   ],
   "source": [
    "max(num_list_series)"
   ]
  },
  {
   "cell_type": "code",
   "execution_count": 38,
   "id": "3b9ef9ab",
   "metadata": {},
   "outputs": [
    {
     "data": {
      "text/plain": [
       "78.15"
      ]
     },
     "execution_count": 38,
     "metadata": {},
     "output_type": "execute_result"
    }
   ],
   "source": [
    "num_list_series.mean()"
   ]
  },
  {
   "cell_type": "code",
   "execution_count": 39,
   "id": "33c30a63",
   "metadata": {},
   "outputs": [
    {
     "data": {
      "text/plain": [
       "79.0"
      ]
     },
     "execution_count": 39,
     "metadata": {},
     "output_type": "execute_result"
    }
   ],
   "source": [
    "num_list_series.median()"
   ]
  },
  {
   "cell_type": "markdown",
   "id": "87750758",
   "metadata": {},
   "source": [
    "* Plot the Series in a meaningful way and make sure your chart has a title and axis labels."
   ]
  },
  {
   "cell_type": "code",
   "execution_count": 65,
   "id": "988d7c1d",
   "metadata": {},
   "outputs": [
    {
     "data": {
      "text/plain": [
       "[Text(0.5, 0, 'Bins'), Text(0, 0.5, 'Quantity')]"
      ]
     },
     "execution_count": 65,
     "metadata": {},
     "output_type": "execute_result"
    },
    {
     "data": {
      "image/png": "[encoded data removed]",
      "text/plain": [
       "<Figure size 640x480 with 1 Axes>"
      ]
     },
     "metadata": {},
     "output_type": "display_data"
    }
   ],
   "source": [
    "#  bins_num_list_s = pd.cut(num_list_series, bins=4)\n",
    "bins = pd.cut(num_list_series, [0, 60, 70, 80, 90, 100], labels=['0-59', '60-69', '70-79', '80-89', '90-100'])# bins all the numbers in the list\n",
    "bins_count = bins.value_counts().sort_index() # counting the bins and soting to plot in graph and show the bins and quantity in each bin\n",
    "bins_count.plot.bar(title='Grades List', \n",
    "                            rot=0, \n",
    "                            color='firebrick', \n",
    "                            ec='black',\n",
    "                            width=.9).set(xlabel='Bins',\n",
    "                            ylabel='Quantity')\n"
   ]
  },
  {
   "cell_type": "markdown",
   "id": "e47ac9e6",
   "metadata": {},
   "source": [
    "* Write the code necessary to implement a curve for your exam_grades Series and save this as curved_grades. Add the necessary points to the highest grade to make it 100, and add the same number of points to every other score in the Series as well."
   ]
  },
  {
   "cell_type": "code",
   "execution_count": 55,
   "id": "9d0d462e",
   "metadata": {},
   "outputs": [
    {
     "data": {
      "text/plain": [
       "0      64\n",
       "1      90\n",
       "2      79\n",
       "3      66\n",
       "4      97\n",
       "5      75\n",
       "6      64\n",
       "7      87\n",
       "8      99\n",
       "9      82\n",
       "10     69\n",
       "11     76\n",
       "12     73\n",
       "13     85\n",
       "14    100\n",
       "15     84\n",
       "16     89\n",
       "17     96\n",
       "18     86\n",
       "19     82\n",
       "dtype: int64"
      ]
     },
     "execution_count": 55,
     "metadata": {},
     "output_type": "execute_result"
    }
   ],
   "source": [
    "curved_grade = num_list_series + 4\n",
    "curved_grade"
   ]
  },
  {
   "cell_type": "markdown",
   "id": "ada14cff",
   "metadata": {},
   "source": [
    "* Use a method to convert each of the numeric values in the curved_grades Series into a categorical value of letter grades. For example, 86 should be a 'B' and 95 should be an 'A'. Save this as a Series named letter_grades."
   ]
  },
  {
   "cell_type": "code",
   "execution_count": 193,
   "id": "d1b6fbf4",
   "metadata": {},
   "outputs": [
    {
     "data": {
      "text/plain": [
       "0     D\n",
       "1     B\n",
       "2     C\n",
       "3     D\n",
       "4     A\n",
       "5     C\n",
       "6     D\n",
       "7     B\n",
       "8     A\n",
       "9     B\n",
       "10    D\n",
       "11    C\n",
       "12    C\n",
       "13    B\n",
       "14    A\n",
       "15    B\n",
       "16    B\n",
       "17    A\n",
       "18    B\n",
       "19    B\n",
       "dtype: category\n",
       "Categories (5, object): ['F' < 'D' < 'C' < 'B' < 'A']"
      ]
     },
     "execution_count": 193,
     "metadata": {},
     "output_type": "execute_result"
    }
   ],
   "source": [
    "#  bins_num_list_s = pd.cut(num_list_series, bins=4)\n",
    "bins = pd.cut(curved_grade, [0, 60, 70, 80, 90, 100], labels=['F', 'D', 'C', 'B', 'A'])# bins all the numbers in the list\n",
    "bins"
   ]
  },
  {
   "cell_type": "markdown",
   "id": "254d344c",
   "metadata": {},
   "source": [
    "* Plot your new categorical letter_grades Series in a meaninful way and include a title and axis labels."
   ]
  },
  {
   "cell_type": "code",
   "execution_count": 194,
   "id": "3a8c0429",
   "metadata": {},
   "outputs": [
    {
     "data": {
      "text/plain": [
       "[Text(0.5, 0, 'Bins'), Text(0, 0.5, 'Quantity')]"
      ]
     },
     "execution_count": 194,
     "metadata": {},
     "output_type": "execute_result"
    },
    {
     "data": {
      "image/png": "[encoded data removed]",
      "text/plain": [
       "<Figure size 640x480 with 1 Axes>"
      ]
     },
     "metadata": {},
     "output_type": "display_data"
    }
   ],
   "source": [
    "#  bins_num_list_s = pd.cut(num_list_series, bins=4)\n",
    "bins = pd.cut(curved_grade, [0, 60, 70, 80, 90, 100], labels=['F', 'D', 'C', 'B', 'A'])# bins all the numbers in the list\n",
    "bins_count = bins.value_counts().sort_index() # counting the bins and soting to plot in graph and show the bins and quantity in each bin\n",
    "bins_count.plot.bar(title='Grades List', \n",
    "                            rot=0, \n",
    "                            color='firebrick', \n",
    "                            ec='black',\n",
    "                            width=.9).set(xlabel='Bins',\n",
    "                            ylabel='Quantity')\n"
   ]
  },
  {
   "cell_type": "code",
   "execution_count": 130,
   "id": "957bc65a",
   "metadata": {},
   "outputs": [
    {
     "name": "stdout",
     "output_type": "stream",
     "text": [
      "Pretty printing has been turned ON\n"
     ]
    }
   ],
   "source": [
    "pprint()"
   ]
  },
  {
   "cell_type": "code",
   "execution_count": null,
   "id": "ec04c054",
   "metadata": {},
   "outputs": [],
   "source": []
  }
 ],
 "metadata": {
  "kernelspec": {
   "display_name": "Python 3 (ipykernel)",
   "language": "python",
   "name": "python3"
  },
  "language_info": {
   "codemirror_mode": {
    "name": "ipython",
    "version": 3
   },
   "file_extension": ".py",
   "mimetype": "text/x-python",
   "name": "python",
   "nbconvert_exporter": "python",
   "pygments_lexer": "ipython3",
   "version": "3.10.9"
  }
 },
 "nbformat": 4,
 "nbformat_minor": 5
}
