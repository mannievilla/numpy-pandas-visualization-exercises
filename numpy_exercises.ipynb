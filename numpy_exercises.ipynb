{
 "cells": [
  {
   "cell_type": "code",
   "execution_count": 1,
   "id": "4b9116a7",
   "metadata": {},
   "outputs": [],
   "source": [
    "import numpy as np"
   ]
  },
  {
   "cell_type": "code",
   "execution_count": 2,
   "id": "7c5742e1",
   "metadata": {},
   "outputs": [],
   "source": [
    "a = np.array([4, 10, 12, 23, -2, -1, 0, 0, 0, -6, 3, -7])"
   ]
  },
  {
   "cell_type": "markdown",
   "id": "162e29e5",
   "metadata": {},
   "source": [
    "* How many negative numbers are there?"
   ]
  },
  {
   "cell_type": "code",
   "execution_count": 12,
   "id": "b8ee143c",
   "metadata": {},
   "outputs": [
    {
     "data": {
      "text/plain": [
       "4"
      ]
     },
     "execution_count": 12,
     "metadata": {},
     "output_type": "execute_result"
    }
   ],
   "source": [
    "len(a[a < 0])"
   ]
  },
  {
   "cell_type": "markdown",
   "id": "a19d1c1f",
   "metadata": {},
   "source": [
    "* How many positive numbers are there?"
   ]
  },
  {
   "cell_type": "code",
   "execution_count": 11,
   "id": "18e854c4",
   "metadata": {},
   "outputs": [
    {
     "data": {
      "text/plain": [
       "5"
      ]
     },
     "execution_count": 11,
     "metadata": {},
     "output_type": "execute_result"
    }
   ],
   "source": [
    "len(a[a > 0])"
   ]
  },
  {
   "cell_type": "markdown",
   "id": "a7cb746e",
   "metadata": {},
   "source": [
    "* How many even positive numbers are there?"
   ]
  },
  {
   "cell_type": "code",
   "execution_count": 14,
   "id": "59698703",
   "metadata": {},
   "outputs": [
    {
     "data": {
      "text/plain": [
       "3"
      ]
     },
     "execution_count": 14,
     "metadata": {},
     "output_type": "execute_result"
    }
   ],
   "source": [
    "len(a[(a % 2 == 0)&(a > 0)])"
   ]
  },
  {
   "cell_type": "markdown",
   "id": "738e8959",
   "metadata": {},
   "source": [
    "* If you were to add 3 to each data point, how many positive numbers would there be?"
   ]
  },
  {
   "cell_type": "code",
   "execution_count": 7,
   "id": "d6c296a1",
   "metadata": {},
   "outputs": [
    {
     "data": {
      "text/plain": [
       "5"
      ]
     },
     "execution_count": 7,
     "metadata": {},
     "output_type": "execute_result"
    }
   ],
   "source": [
    "a_plus_three = (a + 3)\n",
    "len(a_plus_three[a > 0])"
   ]
  },
  {
   "cell_type": "code",
   "execution_count": 9,
   "id": "092a4c72",
   "metadata": {},
   "outputs": [
    {
     "data": {
      "text/plain": [
       "array([ 7, 13, 15, 26,  1,  2,  3,  3,  3, -3,  6, -4])"
      ]
     },
     "execution_count": 9,
     "metadata": {},
     "output_type": "execute_result"
    }
   ],
   "source": [
    "a_plus_three"
   ]
  },
  {
   "cell_type": "code",
   "execution_count": 8,
   "id": "f8e767cc",
   "metadata": {},
   "outputs": [
    {
     "data": {
      "text/plain": [
       "array([ 7, 13, 15, 26,  6])"
      ]
     },
     "execution_count": 8,
     "metadata": {},
     "output_type": "execute_result"
    }
   ],
   "source": [
    "a_plus_three[a > 0]"
   ]
  },
  {
   "cell_type": "markdown",
   "id": "f047cb4d",
   "metadata": {},
   "source": [
    "* If you squared each number, what would the new mean and standard deviation be?"
   ]
  },
  {
   "cell_type": "code",
   "execution_count": 26,
   "id": "5b94245b",
   "metadata": {},
   "outputs": [
    {
     "name": "stdout",
     "output_type": "stream",
     "text": [
      "The standard deviation is:  144.0243035046516\n",
      "The mean is:  74.0\n"
     ]
    }
   ],
   "source": [
    "a_squared = a ** 2\n",
    "print('The standard deviation is: ', a_squared.std())\n",
    "print('The mean is: ', a_squared.mean())"
   ]
  },
  {
   "cell_type": "markdown",
   "id": "09d668a2",
   "metadata": {},
   "source": [
    "* A common statistical operation on a dataset is centering. This means to adjust the data such that the mean of the data is 0. This is done by subtracting the mean from each data point. Center the data set. See this link for more on centering."
   ]
  },
  {
   "cell_type": "code",
   "execution_count": 29,
   "id": "ebf8a271",
   "metadata": {},
   "outputs": [
    {
     "data": {
      "text/plain": [
       "0.0"
      ]
     },
     "execution_count": 29,
     "metadata": {},
     "output_type": "execute_result"
    }
   ],
   "source": [
    "(a - (a.mean())).mean()"
   ]
  },
  {
   "cell_type": "markdown",
   "id": "5d54bdf4",
   "metadata": {},
   "source": [
    "* Calculate the z-score for each data point. Recall that the z-score is given by:\n",
    "\n",
    "Z=\n",
    "(x\n",
    "-\n",
    "μ)\n",
    "/\n",
    "σ\n"
   ]
  },
  {
   "cell_type": "code",
   "execution_count": 30,
   "id": "f7215209",
   "metadata": {},
   "outputs": [
    {
     "data": {
      "text/plain": [
       "array([ 0.12403473,  0.86824314,  1.11631261,  2.48069469, -0.62017367,\n",
       "       -0.49613894, -0.3721042 , -0.3721042 , -0.3721042 , -1.11631261,\n",
       "        0.        , -1.24034735])"
      ]
     },
     "execution_count": 30,
     "metadata": {},
     "output_type": "execute_result"
    }
   ],
   "source": [
    "(a - (a.mean()))/a.std()"
   ]
  },
  {
   "cell_type": "markdown",
   "id": "7c14929e",
   "metadata": {},
   "source": [
    "* Copy the setup and exercise directions from More Numpy Practice into your numpy_exercises.py and add your solutions."
   ]
  },
  {
   "cell_type": "markdown",
   "id": "72c891b7",
   "metadata": {},
   "source": [
    "\n",
    "# Life w/o numpy to life with numpy\n",
    "\n",
    "* Setup 1\n",
    "`a = [1, 2, 3, 4, 5, 6, 7, 8, 9, 10]`\n",
    "\n",
    "# Use python's built in functionality/operators to determine the following:\n",
    "### Exercise 1 - Make a variable called sum_of_a to hold the sum of all the numbers in above list\n",
    "\n",
    "### Exercise 2 - Make a variable named min_of_a to hold the minimum of all the numbers in the above list\n",
    "\n",
    "### Exercise 3 - Make a variable named max_of_a to hold the max number of all the numbers in the above list\n",
    "\n",
    "### Exercise 4 - Make a variable named mean_of_a to hold the average of all the numbers in the above list\n",
    "\n",
    "### Exercise 5 - Make a variable named product_of_a to hold the product of multiplying all the numbers in the above list together\n",
    "\n",
    "### Exercise 6 - Make a variable named squares_of_a. It should hold each number in a squared like `[1, 4, 9, 16, 25...]`\n",
    "\n",
    "### Exercise 7 - Make a variable named odds_in_a. It should hold only the odd numbers\n",
    "\n",
    "### Exercise 8 - Make a variable named evens_in_a. It should hold only the evens.\n",
    "\n",
    "### What about life in two dimensions? A list of lists is matrix, a table, a spreadsheet, a chessboard...\n",
    "* Setup 2: Consider what it would take to find the sum, min, max, average, sum, product, and list of squares for this list of two lists.\n",
    "`b = [\n",
    "    [3, 4, 5],\n",
    "    [6, 7, 8]\n",
    "]`\n",
    "\n",
    "### Exercise 1 - refactor the following to use numpy. Use sum_of_b as the variable. **Hint, you'll first need to make sure that the \"b\" variable is a numpy array**\n",
    "`sum_of_b = 0\n",
    "for row in b:\n",
    "    sum_of_b += sum(row)`\n",
    "\n",
    "### Exercise 2 - refactor the following to use numpy. \n",
    "`min_of_b = min(b[0]) if min(b[0]) <= min(b[1]) else min(b[1]) ` \n",
    "\n",
    "### Exercise 3 - refactor the following maximum calculation to find the answer with numpy.\n",
    "`max_of_b = max(b[0]) if max(b[0]) >= max(b[1]) else max(b[1])`\n",
    "\n",
    "\n",
    "### Exercise 4 - refactor the following using numpy to find the mean of b\n",
    "`mean_of_b = (sum(b[0]) + sum(b[1])) / (len(b[0]) + len(b[1]))`\n",
    "\n",
    "### Exercise 5 - refactor the following to use numpy for calculating the product of all numbers multiplied together.\n",
    "`product_of_b = 1\n",
    "for row in b:\n",
    "    for number in row:\n",
    "        product_of_b *= number`\n",
    "\n",
    "### Exercise 6 - refactor the following to use numpy to find the list of squares \n",
    "```squares_of_b = []```\n",
    "```for row in b:```\n",
    "    ```for number in row:```\n",
    "       ```squares_of_b.append(number**2)```\n",
    "\n",
    "\n",
    "### Exercise 7 - refactor using numpy to determine the odds_in_b\n",
    "```odds_in_b = []```\n",
    "```for row in b:```\n",
    "    ```for number in row:```\n",
    "        ```if(number % 2 != 0):```\n",
    "            ```odds_in_b.append(number)```\n",
    "\n",
    "\n",
    "### Exercise 8 - refactor the following to use numpy to filter only the even numbers\n",
    "```evens_in_b = []```\n",
    "`for row in b:`\n",
    "    `for number in row:`\n",
    "        `if(number % 2 == 0):`\n",
    "            `evens_in_b.append(number)`\n",
    "\n",
    "### Exercise 9 - print out the shape of the array b.\n",
    "\n",
    "### Exercise 10 - transpose the array b.\n",
    "\n",
    "### Exercise 11 - reshape the array b to be a single list of 6 numbers. (1 x 6)\n",
    "\n",
    "### Exercise 12 - reshape the array b to be a list of 6 lists, each containing only 1 number (6 x 1)\n",
    "\n",
    "* Setup 3 \n",
    "\n",
    "`c = [\n",
    "    [1, 2, 3],\n",
    "    [4, 5, 6],\n",
    "    [7, 8, 9]\n",
    "]`\n",
    "\n",
    "### HINT, you'll first need to make sure that the \"c\" variable is a numpy array prior to using numpy array methods.\n",
    "* Exercise 1 - Find the min, max, sum, and product of c.\n",
    "\n",
    "### Exercise 2 - Determine the standard deviation of c.\n",
    "\n",
    "### Exercise 3 - Determine the variance of c.\n",
    "\n",
    "### Exercise 4 - Print out the shape of the array c\n",
    "\n",
    "### Exercise 5 - Transpose c and print out transposed result.\n",
    "\n",
    "### Exercise 6 - Get the dot product of the array c with c. \n",
    "\n",
    "### Exercise 7 - Write the code necessary to sum up the result of c times c transposed. Answer should be 261\n",
    "\n",
    "### Exercise 8 - Write the code necessary to determine the product of c times c transposed. Answer should be 131681894400.\n",
    "\n",
    "* Setup 4\n",
    "\n",
    "`d = [\n",
    "\n",
    "    [90, 30, 45, 0, 120, 180],\n",
    "   \n",
    "    [45, -90, -30, 270, 90, 0],\n",
    "    \n",
    "    [60, 45, -45, 90, -45, 180]\n",
    "]`\n",
    "\n",
    "### Exercise 1 - Find the sine of all the numbers in d\n",
    "\n",
    "### Exercise 2 - Find the cosine of all the numbers in d\n",
    "\n",
    "### Exercise 3 - Find the tangent of all the numbers in d\n",
    "\n",
    "### Exercise 4 - Find all the negative numbers in d\n",
    "\n",
    "### Exercise 5 - Find all the positive numbers in d\n",
    "\n",
    "### Exercise 6 - Return an array of only the unique numbers in d.\n",
    "\n",
    "### Exercise 7 - Determine how many unique numbers there are in d.\n",
    "\n",
    "### Exercise 8 - Print out the shape of d.\n",
    "\n",
    "### Exercise 9 - Transpose and then print out the shape of d.\n",
    "\n",
    "### Exercise 10 - Reshape d into an array of 9 x 2"
   ]
  },
  {
   "cell_type": "markdown",
   "id": "e7504d45",
   "metadata": {},
   "source": [
    "`a = [1, 2, 3, 4, 5, 6, 7, 8, 9, 10]`\n",
    "\n",
    "#### Use python's built in functionality/operators to determine the following:\n",
    "* Exercise 1 - Make a variable called sum_of_a to hold the sum of all the numbers in above list"
   ]
  },
  {
   "cell_type": "code",
   "execution_count": 1,
   "id": "96178965",
   "metadata": {},
   "outputs": [],
   "source": [
    "a = [1, 2, 3, 4, 5, 6, 7, 8, 9, 10]"
   ]
  },
  {
   "cell_type": "code",
   "execution_count": 87,
   "id": "5c6ed40e",
   "metadata": {},
   "outputs": [
    {
     "name": "stdout",
     "output_type": "stream",
     "text": [
      "55\n"
     ]
    }
   ],
   "source": [
    "sum = 0\n",
    "for i in a:\n",
    "    sum = sum + i\n",
    "print(sum)"
   ]
  },
  {
   "cell_type": "markdown",
   "id": "a74bdedb",
   "metadata": {},
   "source": [
    "* Exercise 2 - Make a variable named min_of_a to hold the minimum of all the numbers in the above list"
   ]
  },
  {
   "cell_type": "code",
   "execution_count": 7,
   "id": "eb386310",
   "metadata": {},
   "outputs": [
    {
     "name": "stdout",
     "output_type": "stream",
     "text": [
      "1\n"
     ]
    }
   ],
   "source": [
    "for i in range(len(a)):\n",
    "    min_val = a[0]\n",
    "    if a[i] < min_val:\n",
    "        min_val = a[i]\n",
    "print(min_val)"
   ]
  },
  {
   "cell_type": "code",
   "execution_count": 4,
   "id": "fc1e59de",
   "metadata": {},
   "outputs": [
    {
     "data": {
      "text/plain": [
       "range(0, 10)"
      ]
     },
     "execution_count": 4,
     "metadata": {},
     "output_type": "execute_result"
    }
   ],
   "source": [
    "range(len(a))"
   ]
  },
  {
   "cell_type": "markdown",
   "id": "77470f0d",
   "metadata": {},
   "source": [
    "* Exercise 3 - Make a variable named max_of_a to hold the max number of all the numbers in the above list"
   ]
  },
  {
   "cell_type": "code",
   "execution_count": 10,
   "id": "5ab725f7",
   "metadata": {},
   "outputs": [
    {
     "data": {
      "text/plain": [
       "10"
      ]
     },
     "execution_count": 10,
     "metadata": {},
     "output_type": "execute_result"
    }
   ],
   "source": [
    "max_of_a = max(a)\n",
    "max_of_a"
   ]
  },
  {
   "cell_type": "markdown",
   "id": "bdb956f4",
   "metadata": {},
   "source": [
    "* Exercise 4 - Make a variable named mean_of_a to hold the average of all the numbers in the above list"
   ]
  },
  {
   "cell_type": "code",
   "execution_count": 14,
   "id": "037d1db8",
   "metadata": {},
   "outputs": [
    {
     "data": {
      "text/plain": [
       "5.5"
      ]
     },
     "execution_count": 14,
     "metadata": {},
     "output_type": "execute_result"
    }
   ],
   "source": [
    "mean_of_a = sum(a)/len(a)\n",
    "mean_of_a"
   ]
  },
  {
   "cell_type": "markdown",
   "id": "2dd72276",
   "metadata": {},
   "source": [
    "* Exercise 5 - Make a variable named product_of_a to hold the product of multiplying all the numbers in the above list together"
   ]
  },
  {
   "cell_type": "code",
   "execution_count": 17,
   "id": "5e064041",
   "metadata": {},
   "outputs": [
    {
     "name": "stdout",
     "output_type": "stream",
     "text": [
      "3628800\n"
     ]
    }
   ],
   "source": [
    "prod = 1\n",
    "for i in a:\n",
    "    prod = prod * i\n",
    "print(prod)"
   ]
  },
  {
   "cell_type": "markdown",
   "id": "ab57e188",
   "metadata": {},
   "source": [
    "* Exercise 6 - Make a variable named squares_of_a. It should hold each number in a squared like `[1, 4, 9, 16, 25...]`"
   ]
  },
  {
   "cell_type": "code",
   "execution_count": 29,
   "id": "250d6f20",
   "metadata": {},
   "outputs": [
    {
     "name": "stdout",
     "output_type": "stream",
     "text": [
      "[1, 4, 9, 16, 25, 36, 49, 64, 81, 100]\n"
     ]
    }
   ],
   "source": [
    "squares = []\n",
    "for i in a:\n",
    "    sqr = i * i\n",
    "    squares.append(sqr)\n",
    "print(squares)"
   ]
  },
  {
   "cell_type": "markdown",
   "id": "31001041",
   "metadata": {},
   "source": [
    "* Exercise 7 - Make a variable named odds_in_a. It should hold only the odd numbers"
   ]
  },
  {
   "cell_type": "code",
   "execution_count": 36,
   "id": "3c61baca",
   "metadata": {},
   "outputs": [
    {
     "data": {
      "text/plain": [
       "[1, 3, 5, 7, 9]"
      ]
     },
     "execution_count": 36,
     "metadata": {},
     "output_type": "execute_result"
    }
   ],
   "source": [
    "odds_in_a = []\n",
    "for i in a:\n",
    "    if i %2 != 0:\n",
    "        odds_in_a.append(i)\n",
    "\n",
    "odds_in_a"
   ]
  },
  {
   "cell_type": "markdown",
   "id": "4f5aad58",
   "metadata": {},
   "source": [
    "* Exercise 8 - Make a variable named evens_in_a. It should hold only the evens."
   ]
  },
  {
   "cell_type": "code",
   "execution_count": 38,
   "id": "0f135b9f",
   "metadata": {},
   "outputs": [
    {
     "data": {
      "text/plain": [
       "[2, 4, 6, 8, 10]"
      ]
     },
     "execution_count": 38,
     "metadata": {},
     "output_type": "execute_result"
    }
   ],
   "source": [
    "evens_in_a = [ num for num in a if num %2 == 0 ] \n",
    "evens_in_a"
   ]
  },
  {
   "cell_type": "markdown",
   "id": "813bcf76",
   "metadata": {},
   "source": [
    "### What about life in two dimensions? A list of lists is matrix, a table, a spreadsheet, a chessboard...\n",
    "* Setup 2: Consider what it would take to find the sum, min, max, average, sum, product, and list of squares for this list of two lists.\n",
    "\n",
    "`b = [`\n",
    "\n",
    "    `[3, 4, 5],`\n",
    "    \n",
    "    `[6, 7, 8]`\n",
    "    \n",
    "`]`\n",
    "\n",
    "\n"
   ]
  },
  {
   "cell_type": "code",
   "execution_count": 1,
   "id": "27011807",
   "metadata": {},
   "outputs": [],
   "source": [
    "b = [[3, 4, 5], [6, 7, 8]]"
   ]
  },
  {
   "cell_type": "code",
   "execution_count": 2,
   "id": "2e951aa3",
   "metadata": {},
   "outputs": [
    {
     "name": "stdout",
     "output_type": "stream",
     "text": [
      "12\n",
      "21\n"
     ]
    }
   ],
   "source": [
    "for i in b:\n",
    "    \n",
    "    print(sum(i))"
   ]
  },
  {
   "cell_type": "code",
   "execution_count": 31,
   "id": "f20379a3",
   "metadata": {},
   "outputs": [
    {
     "name": "stdout",
     "output_type": "stream",
     "text": [
      "3\n",
      "6\n"
     ]
    }
   ],
   "source": [
    "for i in b:\n",
    "    \n",
    "    print(min(i))"
   ]
  },
  {
   "cell_type": "code",
   "execution_count": 32,
   "id": "ac5c28e6",
   "metadata": {},
   "outputs": [
    {
     "name": "stdout",
     "output_type": "stream",
     "text": [
      "5\n",
      "8\n"
     ]
    }
   ],
   "source": [
    "for i in b:\n",
    "    \n",
    "    print(max(i))"
   ]
  },
  {
   "cell_type": "code",
   "execution_count": 3,
   "id": "fc90a35b",
   "metadata": {},
   "outputs": [
    {
     "name": "stdout",
     "output_type": "stream",
     "text": [
      "4.0\n",
      "7.0\n"
     ]
    }
   ],
   "source": [
    "for i in b:\n",
    "    \n",
    "    print(sum(i)/len(i))"
   ]
  },
  {
   "cell_type": "code",
   "execution_count": 5,
   "id": "c62523db",
   "metadata": {},
   "outputs": [
    {
     "ename": "TypeError",
     "evalue": "can't multiply sequence by non-int of type 'list'",
     "output_type": "error",
     "traceback": [
      "\u001b[0;31m---------------------------------------------------------------------------\u001b[0m",
      "\u001b[0;31mTypeError\u001b[0m                                 Traceback (most recent call last)",
      "Cell \u001b[0;32mIn[5], line 3\u001b[0m\n\u001b[1;32m      1\u001b[0m prod \u001b[38;5;241m=\u001b[39m \u001b[38;5;241m1\u001b[39m\n\u001b[1;32m      2\u001b[0m \u001b[38;5;28;01mfor\u001b[39;00m i \u001b[38;5;129;01min\u001b[39;00m b:\n\u001b[0;32m----> 3\u001b[0m     prod \u001b[38;5;241m=\u001b[39m \u001b[43mprod\u001b[49m\u001b[43m \u001b[49m\u001b[38;5;241;43m*\u001b[39;49m\u001b[43m \u001b[49m\u001b[43mi\u001b[49m\n\u001b[1;32m      4\u001b[0m \u001b[38;5;28mprint\u001b[39m(prod)\n",
      "\u001b[0;31mTypeError\u001b[0m: can't multiply sequence by non-int of type 'list'"
     ]
    }
   ],
   "source": [
    "prod = 1\n",
    "for i in b:\n",
    "    prod = prod * i\n",
    "print(prod)"
   ]
  },
  {
   "cell_type": "code",
   "execution_count": null,
   "id": "f0637355",
   "metadata": {},
   "outputs": [],
   "source": []
  },
  {
   "cell_type": "markdown",
   "id": "f7c29594",
   "metadata": {},
   "source": [
    "### Exercise 1 - refactor the following to use numpy. Use sum_of_b as the variable. **Hint, you'll first need to make sure that the \"b\" variable is a numpy array**\n",
    "`sum_of_b = 0\n",
    "for row in b:\n",
    "    sum_of_b += sum(row)`\n",
    "\n"
   ]
  },
  {
   "cell_type": "code",
   "execution_count": null,
   "id": "f6f15c1d",
   "metadata": {},
   "outputs": [],
   "source": []
  },
  {
   "cell_type": "markdown",
   "id": "578763bc",
   "metadata": {},
   "source": [
    "### Exercise 2 - refactor the following to use numpy. \n",
    "`min_of_b = min(b[0]) if min(b[0]) <= min(b[1]) else min(b[1]) ` \n",
    "\n"
   ]
  },
  {
   "cell_type": "code",
   "execution_count": null,
   "id": "d819e97f",
   "metadata": {},
   "outputs": [],
   "source": []
  },
  {
   "cell_type": "markdown",
   "id": "7d163c3f",
   "metadata": {},
   "source": [
    "### Exercise 3 - refactor the following maximum calculation to find the answer with numpy.\n",
    "`max_of_b = max(b[0]) if max(b[0]) >= max(b[1]) else max(b[1])`\n",
    "\n",
    "\n"
   ]
  },
  {
   "cell_type": "code",
   "execution_count": null,
   "id": "4e7731f9",
   "metadata": {},
   "outputs": [],
   "source": []
  },
  {
   "cell_type": "markdown",
   "id": "a35ba7df",
   "metadata": {},
   "source": [
    "### Exercise 4 - refactor the following using numpy to find the mean of b\n",
    "`mean_of_b = (sum(b[0]) + sum(b[1])) / (len(b[0]) + len(b[1]))`\n",
    "\n"
   ]
  },
  {
   "cell_type": "code",
   "execution_count": null,
   "id": "6a0a1bd5",
   "metadata": {},
   "outputs": [],
   "source": []
  },
  {
   "cell_type": "markdown",
   "id": "ee307e2f",
   "metadata": {},
   "source": [
    "### Exercise 5 - refactor the following to use numpy for calculating the product of all numbers multiplied together.\n",
    "`product_of_b = 1\n",
    "for row in b:\n",
    "    for number in row:\n",
    "        product_of_b *= number`\n",
    "\n"
   ]
  },
  {
   "cell_type": "code",
   "execution_count": null,
   "id": "4b62e4d9",
   "metadata": {},
   "outputs": [],
   "source": []
  },
  {
   "cell_type": "markdown",
   "id": "e125c4a1",
   "metadata": {},
   "source": [
    "### Exercise 6 - refactor the following to use numpy to find the list of squares \n",
    "```squares_of_b = []```\n",
    "```for row in b:```\n",
    "    ```for number in row:```\n",
    "       ```squares_of_b.append(number**2)```\n",
    "\n",
    "\n"
   ]
  },
  {
   "cell_type": "code",
   "execution_count": null,
   "id": "954a04ca",
   "metadata": {},
   "outputs": [],
   "source": []
  },
  {
   "cell_type": "markdown",
   "id": "e8d8dd87",
   "metadata": {},
   "source": [
    "### Exercise 7 - refactor using numpy to determine the odds_in_b\n",
    "```odds_in_b = []```\n",
    "```for row in b:```\n",
    "    ```for number in row:```\n",
    "        ```if(number % 2 != 0):```\n",
    "            ```odds_in_b.append(number)```\n",
    "\n",
    "\n"
   ]
  },
  {
   "cell_type": "code",
   "execution_count": null,
   "id": "516dd653",
   "metadata": {},
   "outputs": [],
   "source": []
  },
  {
   "cell_type": "markdown",
   "id": "a563c365",
   "metadata": {},
   "source": [
    "### Exercise 8 - refactor the following to use numpy to filter only the even numbers\n",
    "```evens_in_b = []```\n",
    "`for row in b:`\n",
    "    `for number in row:`\n",
    "        `if(number % 2 == 0):`\n",
    "            `evens_in_b.append(number)`"
   ]
  },
  {
   "cell_type": "code",
   "execution_count": null,
   "id": "aae97d7e",
   "metadata": {},
   "outputs": [],
   "source": []
  },
  {
   "cell_type": "code",
   "execution_count": null,
   "id": "dddb378a",
   "metadata": {},
   "outputs": [],
   "source": []
  }
 ],
 "metadata": {
  "kernelspec": {
   "display_name": "Python 3 (ipykernel)",
   "language": "python",
   "name": "python3"
  },
  "language_info": {
   "codemirror_mode": {
    "name": "ipython",
    "version": 3
   },
   "file_extension": ".py",
   "mimetype": "text/x-python",
   "name": "python",
   "nbconvert_exporter": "python",
   "pygments_lexer": "ipython3",
   "version": "3.10.9"
  }
 },
 "nbformat": 4,
 "nbformat_minor": 5
}
